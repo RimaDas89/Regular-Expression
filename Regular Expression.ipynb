{
 "cells": [
  {
   "cell_type": "markdown",
   "id": "eb8a9fef",
   "metadata": {},
   "source": [
    "# Regular Expression"
   ]
  },
  {
   "cell_type": "markdown",
   "id": "edbd1b23",
   "metadata": {},
   "source": [
    "Regular expression, often abbreviated as RegEx or regex are a powerful tool for pattern matching and text manipulaton. They provide a concise and flexible way to serach, extract and manipulate strings of text based on specific patterns.\n",
    "\n",
    "However, regular expression can be complex and tricky to work with specially for complex patterns. It's essential to understand the syntax and behaviour of regular expressions before using them. Python's re module provides a set of functions and methods to work with regular expressions such as `search()`, `match()`,`findall()` and `sub()`, which makes it easier to leverage their power within Python code."
   ]
  },
  {
   "cell_type": "markdown",
   "id": "613b318a",
   "metadata": {},
   "source": [
    "Also Regular expression are instrumental in extracting informationfrom text such as log files, spreadsheets, or even textual documents.\n",
    "\n",
    "**For example:** Below are some of the cases where regular expression can help you save alot of time.\n",
    "* Searching and replacing text in files.\n",
    "* Validating text input, such as passwords and email address\n",
    "* Rename a hundred files at a time. For example, you can change the extension of all the files using regex pattern"
   ]
  },
  {
   "cell_type": "markdown",
   "id": "6ff6d6e6",
   "metadata": {},
   "source": [
    "We will start this topic by using the RE module, a built in Python module that provided all the required functionality needed for handling patterns and regular expressions."
   ]
  },
  {
   "cell_type": "code",
   "execution_count": 1,
   "id": "d3e44412",
   "metadata": {},
   "outputs": [],
   "source": [
    "import regex as re"
   ]
  },
  {
   "cell_type": "code",
   "execution_count": 2,
   "id": "508b5d30",
   "metadata": {},
   "outputs": [],
   "source": [
    "#print(help(re))"
   ]
  },
  {
   "cell_type": "markdown",
   "id": "177fb968",
   "metadata": {},
   "source": [
    "## Metacharacters"
   ]
  },
  {
   "cell_type": "markdown",
   "id": "50272df9",
   "metadata": {},
   "source": [
    "Metacharacters are special characters with a special meaning that affect how the regular expressions around them are interpreted. \n",
    "\n",
    "Metacharacters don't match themselves. Instead, they indicate that some rules. Characters or sign like |, +, or* are special characters. For example, ^(caret) metacharacters used to match the starting of the string.\n",
    "\n",
    "Metacharacters are also called operators, signs, or symbols.\n",
    "\n",
    "First, Let's see the list of regex metacharacters we can use in Python and their meaning."
   ]
  },
  {
   "cell_type": "markdown",
   "id": "ea68a65b",
   "metadata": {},
   "source": [
    "**(. Dot)**       Matches any character except a newline character. `(Any character except newline character)`\n",
    "\n",
    "**(^ Caret)**     Matches pattern only at the start of the string `(starts with)`.\n",
    "\n",
    "**($ Dollar)**    Matches pattern at the end of the string `(ends with)`.\n",
    "\n",
    "**(* asterisk)**  Matches 0 or more repetition ofthe regex `(Zero or more occurrences)`.\n",
    "\n",
    "**(+ Plus)**      Matches 1 or more repetition ofthe regex `(One or more occurrences)`.\n",
    "\n",
    "**(? Question Mark)**     Matches 0 or 1 repetition ofthe regex `(Zero or one occurrences)`\n",
    "\n",
    "**([]Square bracet)**     used to indicate a set of characters. Matches any single charcter in brackets. `(A set of characters)`. For example, [a,b,c] will match either a, or, b, or, c character\n",
    "\n",
    "**[| Pipe]:**           used to specify multiple patterns`(either or)`. For example P1|P2, where P1 and P2 are the different regexes.\n",
    " \n",
    "**[\\ backslash]:**       used to escape special characters or signals a special sequence. For example, if you are searching for one of the special characters you can use a \\ to escape them.\n",
    "\n",
    "**[^...]**       Matches any single character not in brackets.\n",
    "\n",
    "**(...)**       Matches whatever regular expression is inside the parenthesis. For example, (abc) will match sunstring 'abc'\n",
    "\n",
    "**{}**        Exactly the specified number of occurrences."
   ]
  },
  {
   "cell_type": "markdown",
   "id": "bf6cd949",
   "metadata": {},
   "source": [
    "### Examples of Metacharacters"
   ]
  },
  {
   "cell_type": "code",
   "execution_count": 3,
   "id": "e6f37de9",
   "metadata": {},
   "outputs": [
    {
     "name": "stdout",
     "output_type": "stream",
     "text": [
      "['hello']\n"
     ]
    }
   ],
   "source": [
    "# . metacharacter\n",
    "\n",
    "txt = \"hello planet\"\n",
    "x = re.findall(\"he..o\", txt)\n",
    "print(x)"
   ]
  },
  {
   "cell_type": "code",
   "execution_count": 4,
   "id": "7b7354de",
   "metadata": {},
   "outputs": [
    {
     "name": "stdout",
     "output_type": "stream",
     "text": [
      "['Hello']\n"
     ]
    }
   ],
   "source": [
    "# ^ metacharacter\n",
    "\n",
    "txt = \"Hello planet\"\n",
    "x = re.findall(\"^Hello\", txt)\n",
    "print(x)"
   ]
  },
  {
   "cell_type": "code",
   "execution_count": 5,
   "id": "8b590a5f",
   "metadata": {},
   "outputs": [
    {
     "name": "stdout",
     "output_type": "stream",
     "text": [
      "['planet']\n"
     ]
    }
   ],
   "source": [
    "# $ metacharacter\n",
    "\n",
    "txt = \"Hello planet\"\n",
    "x = re.findall(\"planet$\", txt)\n",
    "print(x)"
   ]
  },
  {
   "cell_type": "markdown",
   "id": "27c5cfb7",
   "metadata": {},
   "source": [
    "## Special Sequences"
   ]
  },
  {
   "cell_type": "markdown",
   "id": "73ed5a95",
   "metadata": {},
   "source": [
    "A special sequence is a \\ followed by one of the characters in the list below, and has a special meaning:"
   ]
  },
  {
   "cell_type": "markdown",
   "id": "50cb161d",
   "metadata": {},
   "source": [
    "**\\A** - Returns a match if the specified characters are at the beginning of the string. Example: \"\\AThe\"\n",
    "\n",
    "**\\b** - Returns a match where the specified characters are at the beginning or at the end of a word\n",
    "(the \"r\" in the beginning is making sure that the string is being treated as a \"raw string\") Example: r\"\\bain\"\n",
    "r\"ain\\b\"\n",
    "\n",
    "**\\B**\t- Returns a match where the specified characters are present, but NOT at the beginning (or at the end) of a word\n",
    "(the \"r\" in the beginning is making sure that the string is being treated as a \"raw string\") Example: r\"\\Bain\"\n",
    "r\"ain\\B\"\n",
    "\n",
    "**\\d** - Returns a match where the string contains digits (numbers from 0-9)\n",
    "\n",
    "**\\D** - Returns a match where the string DOES NOT contain digits\n",
    "\n",
    "**\\s** - Returns a match where the string contains a white space character\n",
    "\n",
    "**\\S** - Returns a match where the string DOES NOT contain a white space character\n",
    "\n",
    "**\\w** - Returns a match where the string contains any word characters (characters from a to Z, digits from 0-9, and the underscore _ character)\n",
    "\n",
    "**\\W** - Returns a match where the string DOES NOT contain any word characters\n",
    "\n",
    "**\\Z** - Returns a match if the specified characters are at the end of the string"
   ]
  },
  {
   "cell_type": "markdown",
   "id": "306f4f32",
   "metadata": {},
   "source": [
    "## RegEx Functions"
   ]
  },
  {
   "cell_type": "markdown",
   "id": "230fb240",
   "metadata": {},
   "source": [
    "The `re` module offers a set of functions that allows us to search a string for a match:\n",
    "\n",
    "* **findall** - Returns a list containing all matches\n",
    "* **search** - Returns a Match object if there is a match anywhere in the string\n",
    "* **split** - Returns a list where the string has been split at each match\n",
    "* **sub** - Replaces one or many matches with a string"
   ]
  },
  {
   "cell_type": "markdown",
   "id": "955e174d",
   "metadata": {},
   "source": [
    "## 1. findall() Function"
   ]
  },
  {
   "cell_type": "markdown",
   "id": "5042f45a",
   "metadata": {},
   "source": [
    "The re findall() scans and target string from left to right as per the regular expression pattern and returns all matches in the order they were found.\n",
    "\n",
    "It returns None if fails to loacte the occurances of the pattern or such pattern doesn't exist in target string."
   ]
  },
  {
   "cell_type": "markdown",
   "id": "a1fef9f6",
   "metadata": {},
   "source": [
    "#### Matching Specific Pattern"
   ]
  },
  {
   "cell_type": "code",
   "execution_count": 6,
   "id": "8a94f5a5",
   "metadata": {},
   "outputs": [
    {
     "name": "stdout",
     "output_type": "stream",
     "text": [
      "['Data science']\n"
     ]
    }
   ],
   "source": [
    "import re\n",
    "\n",
    "pattern = \"Data science\"\n",
    "txt = \"Data science uses that data to make companies more profitable part.\"\n",
    "matches = re.findall(pattern, txt)\n",
    "print(matches)"
   ]
  },
  {
   "cell_type": "markdown",
   "id": "cd292d6d",
   "metadata": {},
   "source": [
    "#### Extracting digits from a string"
   ]
  },
  {
   "cell_type": "code",
   "execution_count": 7,
   "id": "2d005cf2",
   "metadata": {},
   "outputs": [
    {
     "name": "stdout",
     "output_type": "stream",
     "text": [
      "['9', '0', '1', '0', '0']\n"
     ]
    }
   ],
   "source": [
    "txt =\"Virat Kohli scored 90 runs in his 100th match\"\n",
    "\n",
    "pattern =\"\\d\"\n",
    "\n",
    "x = re.findall(pattern, txt)\n",
    "print(x)"
   ]
  },
  {
   "cell_type": "code",
   "execution_count": 8,
   "id": "58910fb3",
   "metadata": {},
   "outputs": [
    {
     "name": "stdout",
     "output_type": "stream",
     "text": [
      "['90', '100']\n"
     ]
    }
   ],
   "source": [
    "# write a regular expression to search digits inside a string\n",
    "\n",
    "txt =\"Virat Kohli scored 90 runs in his 100th match\"\n",
    "\n",
    "pattern =\"\\d+\"\n",
    "\n",
    "x = re.findall(pattern, txt)\n",
    "print(x)"
   ]
  },
  {
   "cell_type": "code",
   "execution_count": 9,
   "id": "6afb7690",
   "metadata": {},
   "outputs": [
    {
     "name": "stdout",
     "output_type": "stream",
     "text": [
      "['12', '222', '1', '45']\n"
     ]
    }
   ],
   "source": [
    "txt = \"12ivzxllvz222szq1u45xzep\"\n",
    "pattern = \"[0-9]+\"\n",
    "\n",
    "x = re.findall(pattern, txt)\n",
    "print(x)"
   ]
  },
  {
   "cell_type": "code",
   "execution_count": 10,
   "id": "bc4a20f4",
   "metadata": {},
   "outputs": [
    {
     "name": "stdout",
     "output_type": "stream",
     "text": [
      "['50']\n",
      "['60']\n",
      "['120']\n"
     ]
    }
   ],
   "source": [
    "# Extracting digits from a list of string\n",
    "\n",
    "price = ['Apple costs Rs 50', 'Rs 60 for each Pineapple', 'Rs 120 for each Watermelon']\n",
    "\n",
    "for i in price:\n",
    "    matches = re.findall(\"\\d+\",i)\n",
    "    print (matches)"
   ]
  },
  {
   "cell_type": "code",
   "execution_count": 11,
   "id": "41d1741d",
   "metadata": {},
   "outputs": [
    {
     "name": "stdout",
     "output_type": "stream",
     "text": [
      "['scien', 'added', 'trick', 'iness', 'diffi', 'field', 'manag', 'given', 'techn', 'acume', 'requi']\n"
     ]
    }
   ],
   "source": [
    "# \"\\w means white space\"\n",
    "\n",
    "string = \"Data science has an added trickiness, in that it’s such a difficult field to manage, given the technical acumen that’s required.\"\n",
    "result = re.findall(r\"\\w{5}\", string)\n",
    "\n",
    "print(result)"
   ]
  },
  {
   "cell_type": "code",
   "execution_count": 12,
   "id": "eba3c9df",
   "metadata": {},
   "outputs": [
    {
     "name": "stdout",
     "output_type": "stream",
     "text": [
      "['Data', 'science', 'has', 'an', 'added', 'trickiness', 'in', 'that', 'it', 's', 'such', 'a', 'difficult', 'field', 'to', 'manage', 'given', 'the', 'technical', 'acumen', 'that', 's', 'required']\n"
     ]
    }
   ],
   "source": [
    "# \"\\w means white space\"\n",
    "\n",
    "string = \"Data science has an added trickiness, in that it’s such a difficult field to manage, given the technical acumen that’s required.\"\n",
    "result = re.findall(r\"\\w+\", string)\n",
    "\n",
    "print(result)"
   ]
  },
  {
   "cell_type": "markdown",
   "id": "544e5b61",
   "metadata": {},
   "source": [
    "## 2. search() Function"
   ]
  },
  {
   "cell_type": "markdown",
   "id": "549680ab",
   "metadata": {},
   "source": [
    "Python `re.search()` method looks for occurrencesof the regex pattern inside the entire target string and returns the corresponding match object instance where the match found.\n",
    "\n",
    "The regular expression pattern and target string are the mandatory arguments,\n",
    "\n",
    "* **Pattern:** The first argument is the regular expression pattern we want to search inside the target string.\n",
    "* **string** The second argument is the variable pointing to the target string (In which we want to look for occurences of the pattern."
   ]
  },
  {
   "cell_type": "code",
   "execution_count": 13,
   "id": "4239288d",
   "metadata": {},
   "outputs": [
    {
     "name": "stdout",
     "output_type": "stream",
     "text": [
      "<re.Match object; span=(0, 5), match='India'>\n"
     ]
    },
    {
     "data": {
      "text/plain": [
       "\"Here span= (0, 5) is giving match object which means it will the 1st and the last Index of the word. \\nHere 0 is matching with the 1st index of the word which is 'I' and 5th index which is 'a' \""
      ]
     },
     "execution_count": 13,
     "metadata": {},
     "output_type": "execute_result"
    }
   ],
   "source": [
    "test = \"India China USA UAE\"\n",
    "x = re.search(\"India\", test)\n",
    "print(x)\n",
    "\n",
    "\"\"\"Here span= (0, 5) is giving match object which means it will the 1st and the last Index of the word. \n",
    "Here 0 is matching with the 1st index of the word which is 'I' and 5th index which is 'a' \"\"\""
   ]
  },
  {
   "cell_type": "code",
   "execution_count": 14,
   "id": "e45bfc7c",
   "metadata": {},
   "outputs": [
    {
     "name": "stdout",
     "output_type": "stream",
     "text": [
      "India\n"
     ]
    }
   ],
   "source": [
    "# group() can be used only with search Function\n",
    "\n",
    "test = \"India China USA UAE\"\n",
    "x = re.search(\"India\", test)\n",
    "print(x.group()) # to retreive the exact value you have use group()"
   ]
  },
  {
   "cell_type": "code",
   "execution_count": 15,
   "id": "420511be",
   "metadata": {},
   "outputs": [
    {
     "name": "stdout",
     "output_type": "stream",
     "text": [
      "<re.Match object; span=(12, 18), match='banana'>\n",
      "<re.Match object; span=(18, 24), match='banana'>\n",
      "<re.Match object; span=(73, 79), match='banana'>\n"
     ]
    }
   ],
   "source": [
    "msgs = ['I grabbed a banana from the fruit bowl and quickly peeled it before taking a bite.',\n",
    "       'The bright yellow banana added a pop of color to the green smoothie.',\n",
    "       'My breakfast routine always includes a bowl of cereal topped with sliced bananas.']\n",
    "\n",
    "for msg in msgs:\n",
    "    search = re.search('banana', msg)\n",
    "    print(search)"
   ]
  },
  {
   "cell_type": "code",
   "execution_count": 16,
   "id": "728a50f7",
   "metadata": {},
   "outputs": [
    {
     "name": "stdout",
     "output_type": "stream",
     "text": [
      "<re.Match object; span=(0, 28), match='This product is really Great'>\n"
     ]
    }
   ],
   "source": [
    "msg1 =\"This product is really Great\"\n",
    "\n",
    "search = re.search(\"^This.*Great$\", msg1)\n",
    "print(search)"
   ]
  },
  {
   "cell_type": "markdown",
   "id": "0f2a24a7",
   "metadata": {},
   "source": [
    "## 3. match object ()"
   ]
  },
  {
   "cell_type": "markdown",
   "id": "1ae6556f",
   "metadata": {},
   "source": [
    "Python `re.match()` method looks for the regex pattern only at the begining of the target string and results match object if match found; otherwise it will return None.\n",
    "\n",
    "The match object contains the location at which the match starts and ends and the actual match value. If it fails to locate the occurences of the pattern that we want to find or such a pattern doesn't exist in a target string it will return aNone type.\n",
    "\n",
    "**Note:** If there is no match, the value None will be returned, instead of the match object"
   ]
  },
  {
   "cell_type": "code",
   "execution_count": 17,
   "id": "6922ef74",
   "metadata": {},
   "outputs": [
    {
     "name": "stdout",
     "output_type": "stream",
     "text": [
      "None\n"
     ]
    }
   ],
   "source": [
    "target = 'Virat Kohli is a world-class cricketer known for his exceptional batting skills and leadership on the field.'\n",
    "\n",
    "# match at the end\n",
    "result = re.match(r\"\\d{5}\", target)\n",
    "print(result)"
   ]
  },
  {
   "cell_type": "markdown",
   "id": "ffbbc93e",
   "metadata": {},
   "source": [
    "if you use a match() method to match any 4 letter word at the end of the string you will get None because it returns a match only if the pattern is loacted at the begining of the string. And as we can see the 6th letter word is not present at the start.\n",
    "\n",
    "So, to match the regex pattern anywhere in the string you need to use either `search()` or `findall()` method of regex module."
   ]
  },
  {
   "cell_type": "markdown",
   "id": "4558ad74",
   "metadata": {},
   "source": [
    "###   This 3 functions can be used only with search()"
   ]
  },
  {
   "cell_type": "markdown",
   "id": "7f664094",
   "metadata": {},
   "source": [
    "The Match object has properties and methods used to retrieve information about the search, and the result:\n",
    "* **span()** - returns tuple containg the start and end position of the match\n",
    "* **string()** - returns the string passed into a function.\n",
    "* **group()** - returns the part of the string where there was a match."
   ]
  },
  {
   "cell_type": "code",
   "execution_count": 18,
   "id": "0be4bf8b",
   "metadata": {},
   "outputs": [
    {
     "name": "stdout",
     "output_type": "stream",
     "text": [
      "<re.Match object; span=(12, 18), match='banana'>\n",
      "banana\n",
      "<re.Match object; span=(18, 24), match='banana'>\n",
      "banana\n",
      "<re.Match object; span=(73, 79), match='banana'>\n",
      "banana\n"
     ]
    }
   ],
   "source": [
    "msgs = ['I grabbed a banana from the fruit bowl and quickly peeled it before taking a bite.',\n",
    "       'The bright yellow banana added a pop of color to the green smoothie.',\n",
    "       'My breakfast routine always includes a bowl of cereal topped with sliced bananas.']\n",
    "\n",
    "for msg in msgs:\n",
    "    search = re.search('banana', msg)\n",
    "    print(search)\n",
    "    print(search.group())"
   ]
  },
  {
   "cell_type": "code",
   "execution_count": 19,
   "id": "2a578f64",
   "metadata": {},
   "outputs": [
    {
     "name": "stdout",
     "output_type": "stream",
     "text": [
      "(11, 18)\n"
     ]
    }
   ],
   "source": [
    "#print the position of the first and end position of the first maych occurence.\n",
    "\n",
    "msg = \"Eating two bananas a day can do wonders for your health\"\n",
    "x = re.search(r\"\\bbana\\w+\", msg)\n",
    "print(x.span())"
   ]
  },
  {
   "cell_type": "code",
   "execution_count": 20,
   "id": "eaec37bb",
   "metadata": {},
   "outputs": [
    {
     "name": "stdout",
     "output_type": "stream",
     "text": [
      "Eating two bananas a day can do wonders for your health\n"
     ]
    }
   ],
   "source": [
    "#print the position of the first and end position of the first maych occurence.\n",
    "\n",
    "msg = \"Eating two bananas a day can do wonders for your health\"\n",
    "x = re.search(r\"\\bbana\\w+\", msg)\n",
    "print(x.string)"
   ]
  },
  {
   "cell_type": "code",
   "execution_count": 21,
   "id": "1f6b2c4a",
   "metadata": {},
   "outputs": [
    {
     "name": "stdout",
     "output_type": "stream",
     "text": [
      "banana\n"
     ]
    }
   ],
   "source": [
    "msgs = 'I grabbed a banana from the fruit bowl and quickly peeled it before taking a bite.'\n",
    "x = re.search(r\"\\bbana\\w+\", msgs)\n",
    "print(x.group())"
   ]
  },
  {
   "cell_type": "markdown",
   "id": "87cf60a4",
   "metadata": {},
   "source": [
    "`re.seach()` method returns a match object (i.e, re.Match). This match object contains the following two items.\n",
    "\n",
    "1. The tuple object contains the start and end index of a successful match.\n",
    "2. It contains an actual matching value that we can retrieve using a group() method."
   ]
  },
  {
   "cell_type": "code",
   "execution_count": 22,
   "id": "52c428a5",
   "metadata": {},
   "outputs": [
    {
     "name": "stdout",
     "output_type": "stream",
     "text": [
      "<re.Match object; span=(4, 9), match='Abdul'>\n",
      "Abdul\n"
     ]
    }
   ],
   "source": [
    "string = \"APJ Abdul Kalam was an eminent Indian scientist and the 11th President of India, who inspired millions with his vision, humility, and dedication to the advancement of science and technology.\"\n",
    "result = re.search(r\"\\w{5}\", string)\n",
    "\n",
    "print(result)\n",
    "print(result.group())\n",
    "\n",
    "#search will always give you the first occurence only. To find all the the words you need to use findall"
   ]
  },
  {
   "cell_type": "markdown",
   "id": "060ce8f0",
   "metadata": {},
   "source": [
    "## split"
   ]
  },
  {
   "cell_type": "markdown",
   "id": "176b8764",
   "metadata": {},
   "source": [
    "Regex pattern and target string are the mandatory arguments.The maxsplit and flagsare optional.\n",
    "\n",
    "* **pattern:** the regex pattern used for splitting the targeted string.\n",
    "* **string:**  the variable pointing to the targeted string (i.e, string we want to split).\n",
    "* **maxsplit:**  the number of splits you wanted to perform. If maxsplit is 2, at most two splits occur, and the remainder of the string is returned as the final element of the list."
   ]
  },
  {
   "cell_type": "code",
   "execution_count": 23,
   "id": "168e2869",
   "metadata": {},
   "outputs": [
    {
     "name": "stdout",
     "output_type": "stream",
     "text": [
      "['The', 'monkey', 'swung', 'from', 'branch', 'to', 'branch,', 'skillfully', 'peeling', 'a', 'banana', 'and', 'devouring', 'it', 'with', 'delight.']\n"
     ]
    }
   ],
   "source": [
    "# split at each white space character (\\s is split by space)\n",
    "\n",
    "text = \"The monkey swung from branch to branch, skillfully peeling a banana and devouring it with delight.\"\n",
    "x = re.split(\"\\s\", text)\n",
    "print(x)"
   ]
  },
  {
   "cell_type": "code",
   "execution_count": 24,
   "id": "f58143d4",
   "metadata": {},
   "outputs": [
    {
     "name": "stdout",
     "output_type": "stream",
     "text": [
      "['How', 'is this possible?']\n"
     ]
    }
   ],
   "source": [
    "# start splitting by position\n",
    "\n",
    "text = \"How is this possible?\"\n",
    "x = re.split(\"\\s\",text, 1)\n",
    "print(x)"
   ]
  },
  {
   "cell_type": "markdown",
   "id": "ebdc6b39",
   "metadata": {},
   "source": [
    "#### Limit the number of split"
   ]
  },
  {
   "cell_type": "code",
   "execution_count": 25,
   "id": "d6c86671",
   "metadata": {},
   "outputs": [
    {
     "name": "stdout",
     "output_type": "stream",
     "text": [
      "['23', '12-1987']\n"
     ]
    }
   ],
   "source": [
    "targeted_string = \"23-12-1987\"\n",
    "result = re.split(r\"\\D\", targeted_string, maxsplit=1) #split only on the first occurence\n",
    "print(result)"
   ]
  },
  {
   "cell_type": "code",
   "execution_count": 26,
   "id": "94593be2",
   "metadata": {},
   "outputs": [
    {
     "name": "stdout",
     "output_type": "stream",
     "text": [
      "['23', '12', '1987', '24']\n"
     ]
    }
   ],
   "source": [
    "targeted_string = \"23-12-1987_24\"\n",
    "result =re.split(r\"\\D\", targeted_string, maxsplit=3) #split only on three occurence\n",
    "print(result)"
   ]
  },
  {
   "cell_type": "markdown",
   "id": "2abdeca2",
   "metadata": {},
   "source": [
    "#### split string by two delimiters"
   ]
  },
  {
   "cell_type": "code",
   "execution_count": 27,
   "id": "cdbc512e",
   "metadata": {},
   "outputs": [
    {
     "name": "stdout",
     "output_type": "stream",
     "text": [
      "['12', '08', '24', '23', '87', '89']\n"
     ]
    }
   ],
   "source": [
    "string =\"12,08,24-23,87-89\"\n",
    "result = re.split(r\"-|,\", string)\n",
    "print(result)\n",
    "\n",
    "# Here we are using 2 delimeters \"-\" hyphen or \",\" comma. We are using the or \"|\" operators to combine the pattern"
   ]
  },
  {
   "cell_type": "markdown",
   "id": "c999c2df",
   "metadata": {},
   "source": [
    "## 4. sub()"
   ]
  },
  {
   "cell_type": "markdown",
   "id": "cc619ce7",
   "metadata": {},
   "source": [
    "sub method is also known as replace method."
   ]
  },
  {
   "cell_type": "code",
   "execution_count": 28,
   "id": "bd42592d",
   "metadata": {},
   "outputs": [
    {
     "name": "stdout",
     "output_type": "stream",
     "text": [
      "The----baker----added----slices----of----fresh----banana----to----the----top----of----the----moist----chocolate----cake\n"
     ]
    }
   ],
   "source": [
    "suba = \"The baker added slices of fresh banana to the top of the moist chocolate cake\"\n",
    "x = re.sub(\"\\s\", \"----\", suba)\n",
    "print(x)"
   ]
  },
  {
   "cell_type": "code",
   "execution_count": 29,
   "id": "56065c9f",
   "metadata": {},
   "outputs": [
    {
     "name": "stdout",
     "output_type": "stream",
     "text": [
      "This item cost $ 2500\n"
     ]
    }
   ],
   "source": [
    "y = \"Rs\"\n",
    "#x = r\"[oe]\"\n",
    "text = \"This item cost Rs 2500\"\n",
    "\n",
    "replace_text = re.sub(y,\"$\",text)\n",
    "print(replace_text)"
   ]
  },
  {
   "cell_type": "code",
   "execution_count": 30,
   "id": "61707bfb",
   "metadata": {},
   "outputs": [
    {
     "name": "stdout",
     "output_type": "stream",
     "text": [
      "APJAbdulKalamcontributionstothefieldofaerospaceandhiscommitmenttoeducationmadehimabelovedfigureandarolemodelforaspiringscientistsandstudentsworldwide.\n"
     ]
    }
   ],
   "source": [
    "target = \"APJ Abdul Kalam  contributions to the field of aerospace and his commitment to education made him a beloved figure and a role model for aspiring scientists and students worldwide.\"\n",
    "re_st = re.sub(r\"\\s+\",\"\",target) # remove all the spaces, including single or multiple spaces(pattern to remove \"\\s+\")\n",
    "print(re_st)"
   ]
  },
  {
   "cell_type": "code",
   "execution_count": 31,
   "id": "37a3f864",
   "metadata": {},
   "outputs": [
    {
     "name": "stdout",
     "output_type": "stream",
     "text": [
      "The baker added slices of fresh banana to the top of the moist chocolate cake\n"
     ]
    }
   ],
   "source": [
    "# Removing Leading spaces\n",
    "\n",
    "cake = \"       The baker added slices of fresh banana to the top of the moist chocolate cake\"\n",
    "replace = re.sub(r\"^\\s+\", \"\", cake)\n",
    "print(replace)"
   ]
  },
  {
   "cell_type": "code",
   "execution_count": 32,
   "id": "5523d9a3",
   "metadata": {},
   "outputs": [
    {
     "name": "stdout",
     "output_type": "stream",
     "text": [
      "       The baker added slices of fresh banana to the top of the moist chocolate cake     \n"
     ]
    }
   ],
   "source": [
    "# Removing Leading spaces and space from the end\n",
    "\n",
    "cake = \"       The baker added slices of fresh banana to the top of the moist chocolate cake     \"\n",
    "replace = re.sub(r\"^\\s+$\", \"\", cake)\n",
    "print(replace)"
   ]
  },
  {
   "cell_type": "code",
   "execution_count": 33,
   "id": "d715e43c",
   "metadata": {},
   "outputs": [
    {
     "name": "stdout",
     "output_type": "stream",
     "text": [
      "A**B**C***D**_***\n"
     ]
    }
   ],
   "source": [
    "#Try substitute: re.sub(regexStr, replacementStr, inStr) -> outStr\n",
    "        \n",
    "substitute = re.sub(r\"[0-9]\",\"*\", \"A15B22C808D10_115\")\n",
    "print(substitute)"
   ]
  },
  {
   "cell_type": "code",
   "execution_count": 34,
   "id": "e3849bd5",
   "metadata": {},
   "outputs": [
    {
     "name": "stdout",
     "output_type": "stream",
     "text": [
      "A*B*C*D*_*\n"
     ]
    }
   ],
   "source": [
    "#Try substitute: re.sub(regexStr, replacementStr, inStr) -> outStr\n",
    "        \n",
    "substitute = re.sub(r\"[0-9]+\",\"*\", \"A15B22C808D10_115\")\n",
    "print(substitute)"
   ]
  },
  {
   "cell_type": "code",
   "execution_count": 35,
   "id": "11cd2d27",
   "metadata": {},
   "outputs": [
    {
     "name": "stdout",
     "output_type": "stream",
     "text": [
      "('AB*C*D*_*', 4)\n"
     ]
    }
   ],
   "source": [
    "#Try substitute: re.subn(regexStr, replacementStr, inStr) -> outStr\n",
    "\n",
    "substitute = re.subn(r\"[0-9]+\",r\"*\", \"AB22C808D10_115\")\n",
    "print(substitute)"
   ]
  },
  {
   "cell_type": "markdown",
   "id": "7c1e5afa",
   "metadata": {},
   "source": [
    "# Group in Regex"
   ]
  },
  {
   "cell_type": "markdown",
   "id": "e765ca48",
   "metadata": {},
   "source": [
    "A group is a part of a regex pattern enclosed in paranthesis () metacharacter. We create a group by placing the regex pattern inside the set of parenthesis(and.)\n",
    "\n",
    "Capturing group are a way to treat multiple characters as a single unit. They are created by placing the character to be grouped inside a set of parenthesis(,)."
   ]
  },
  {
   "cell_type": "markdown",
   "id": "0a6201a8",
   "metadata": {},
   "source": [
    "We can use group() method to extract each group result separetely by specific a group index in between parenthesis. Capturing groups are numbered by counting their opening parenthesis from left to right. In our case, we used two groups.\n",
    "\n",
    "**Be Noted** Unlike string indexing, which always start at 0, group numbering always starts at 1.\n",
    "The group which the number 0 is always the target string. If you call the group() method with no arguments at all or with 0 as an argument you will get the entire target string."
   ]
  },
  {
   "cell_type": "code",
   "execution_count": 36,
   "id": "9fc47d0d",
   "metadata": {},
   "outputs": [
    {
     "name": "stdout",
     "output_type": "stream",
     "text": [
      "('43', 'CENTURIES', '91', 'CENTURIES')\n",
      "43\n",
      "CENTURIES\n"
     ]
    }
   ],
   "source": [
    "string = \"Rohit Sharma has scored 43 CENTURIES and 91 CENTURIES in his cricket career\"\n",
    "result = re.search(r\"(\\b\\d+).+(\\b[A-Z]+\\b).+(\\b\\d+).+(\\b[A-Z]+\\b)\", string)\n",
    "\n",
    "print(result.groups()) # Extract matching Values of group\n",
    "\n",
    "print(result.group(1)) # Extract matching Values of group 1\n",
    "\n",
    "print(result.group(2)) # Extract matching Values of group 2"
   ]
  },
  {
   "cell_type": "code",
   "execution_count": 37,
   "id": "8752f8e5",
   "metadata": {},
   "outputs": [
    {
     "name": "stdout",
     "output_type": "stream",
     "text": [
      "('43', 'CENTURIES')\n"
     ]
    }
   ],
   "source": [
    "print(result.group(1,2))"
   ]
  },
  {
   "cell_type": "markdown",
   "id": "ef8c86c1",
   "metadata": {},
   "source": [
    "group() method of a Match object, we can extract all the group matches at once, It provides all matches in the tuple format."
   ]
  },
  {
   "cell_type": "markdown",
   "id": "5cf9d51e",
   "metadata": {},
   "source": [
    "### Regex Capture Group Multiple Times"
   ]
  },
  {
   "cell_type": "markdown",
   "id": "26770511",
   "metadata": {},
   "source": [
    "The search method will return only the first match for each group. But what if a string contains the multiple occurences of a regex group and you want to extract all matches.\n",
    "\n",
    "To capture all matches to a regex group we need to use the `finditer()` method.\n",
    "\n",
    "\n",
    "\n",
    "The `finditer()` method finds all matches and returns an iterator yielding match objects matching the regex pattern. Next, we can iterate each Match object and extract its value.\n",
    "\n",
    "**Note:** DOn't use the findall() method because it returns a list, the group() method cannot be applied. If you try to apply it to the findall method, You will get the **Attribute Error: 'list' object has no attribute \"groups\"**.\n",
    "\n",
    "So always use finditer if you wanted to capture all the matches to the group."
   ]
  },
  {
   "cell_type": "code",
   "execution_count": 38,
   "id": "4f5d165f",
   "metadata": {},
   "outputs": [
    {
     "name": "stdout",
     "output_type": "stream",
     "text": [
      "43\n",
      "CENTURIES\n",
      "91\n",
      "HALFCENTURIES\n"
     ]
    }
   ],
   "source": [
    "string1 = \"Rohit Sharma has scored 43 CENTURIES and 91 HALFCENTURIES in his cricket career\"\n",
    "\n",
    "pattern = re.compile(r\"(\\b\\d+\\b).(\\b[A-Z]+\\b)\")\n",
    "\n",
    "#find all matches to group:\n",
    "for match in pattern.finditer(string1): \n",
    "    print(match.group(1))\n",
    "    #Extract Numbers\n",
    "    print(match.group(2))"
   ]
  },
  {
   "cell_type": "markdown",
   "id": "95a00a60",
   "metadata": {},
   "source": [
    "# Remove all consecutive duplicate words"
   ]
  },
  {
   "cell_type": "code",
   "execution_count": 39,
   "id": "3742ef02",
   "metadata": {},
   "outputs": [
    {
     "name": "stdout",
     "output_type": "stream",
     "text": [
      "Ram went to his home\n"
     ]
    }
   ],
   "source": [
    "import regex as re\n",
    "string_1 =\"Ram went went to to his home\"\n",
    "regex = r'\\b(\\w+)(?:\\W+\\1\\b)+'\n",
    "x = re.sub(regex, r'\\1',string_1)\n",
    "print(x)"
   ]
  },
  {
   "cell_type": "markdown",
   "id": "c4fb187a",
   "metadata": {},
   "source": [
    "The details of the above regular expression can be understood as:\n",
    "* \"\\b\" - A word boundary. Boundaries are needed for special cases. For example, in \"My thesis is great\", \"is\" wont be matched twice\n",
    "* \"\\w+\" - A word character:[a-bA-Z_0-9]\n",
    "* \"\\W+\" -A non word character: [^\\w]\n",
    "* \"\\1\" - Matches whatever was matched in the 1st group of parenthesis, which in this case is the (\\w+)\n",
    "* \"+\" - Matches whatever it's placed after 1 or more times"
   ]
  },
  {
   "cell_type": "code",
   "execution_count": 40,
   "id": "6e2cc5c5",
   "metadata": {},
   "outputs": [
    {
     "name": "stdout",
     "output_type": "stream",
     "text": [
      "hello world\n"
     ]
    }
   ],
   "source": [
    "str2 = \"hello hello world world\"\n",
    "regex = r'\\b(\\w+)(?:\\W+\\1\\b)+'\n",
    "\n",
    "x = re.sub(regex, r'\\1', str2)\n",
    "print(x)"
   ]
  },
  {
   "cell_type": "markdown",
   "id": "ec3f3f97",
   "metadata": {},
   "source": [
    "# Extract Url from Text"
   ]
  },
  {
   "cell_type": "raw",
   "id": "b562ef32",
   "metadata": {},
   "source": [
    "with open(\"/content/url_related.txt\")as file:\n",
    "    for line in file:\n",
    "        urls =re.findall('http?://(?:[\\w.]|(?:%[\\da-fA-F]{2}))+',line)\n",
    "        print(urls)"
   ]
  },
  {
   "cell_type": "markdown",
   "id": "773bb351",
   "metadata": {},
   "source": [
    "# Extract Email Address from a text file with Regular Expressin:"
   ]
  },
  {
   "cell_type": "raw",
   "id": "b652e278",
   "metadata": {},
   "source": [
    "with open(\"here_will_be_path_of_the_file\") as follows:\n",
    "    for line in file:\n",
    "        pattern = '[a-zA-Z0-9._%+-]+@[a-zA-Z0-9.-]+.[a-zA-Z]{2,}'\n",
    "        urls = re.findall(pattern, line)\n",
    "        print(urls)"
   ]
  },
  {
   "cell_type": "markdown",
   "id": "79983308",
   "metadata": {},
   "source": [
    "Here is a brief explaination of the regular expression:\n",
    "* `[a-zA-Z0-9._%+-]` Matches one or more characters that can be lowercase or uppercase letters, digits or any  characater `._%+-`\n",
    "* `@[a-zA-Z0-9.-]` matches one or more characters that can be lowercase or uppercase letters, digits or any  characater `.-`\n",
    "* `\\.` matches a literal period (the backslash escapes the period so that it is treated as a literal character, rather than a special character in the regular expression)\n",
    "* `[a-zA-Z]{2,}` matches two or more characters that can be lowercase or upper letters."
   ]
  },
  {
   "cell_type": "markdown",
   "id": "2b1fb3e5",
   "metadata": {},
   "source": [
    "# Regex with Pandas"
   ]
  },
  {
   "cell_type": "code",
   "execution_count": 41,
   "id": "f378060f",
   "metadata": {},
   "outputs": [],
   "source": [
    "import pandas as pd"
   ]
  },
  {
   "cell_type": "markdown",
   "id": "45a3fd29",
   "metadata": {},
   "source": [
    "Pandas contains several functions that support pattern-matching with regex,\n",
    "\n",
    "Below are the three major functions:\n",
    "* **Series.str.contains(pattern)** - This function checks for a pattern in a column(Series) to returnn True or False values (a mask) where the pattern matches. The mask can then be applied to the entire dataframe to only return True rows.\n",
    "* **Series.Str.extract (pattern,expand,flags)** - To use this function, we must define groups using parenthesis inside the pattern. The function extract the matches and returns the groups as a column in a dataframe. When you have only one group in the pattern, use expand = False to return a series instead of a dataframe object.\n",
    "* **Series.Str.replace (pattern,repl,flags)** - Similar to re.sub(), this function replaces matches with the repl string."
   ]
  },
  {
   "cell_type": "code",
   "execution_count": 42,
   "id": "eee13242",
   "metadata": {},
   "outputs": [
    {
     "data": {
      "text/html": [
       "<div>\n",
       "<style scoped>\n",
       "    .dataframe tbody tr th:only-of-type {\n",
       "        vertical-align: middle;\n",
       "    }\n",
       "\n",
       "    .dataframe tbody tr th {\n",
       "        vertical-align: top;\n",
       "    }\n",
       "\n",
       "    .dataframe thead th {\n",
       "        text-align: right;\n",
       "    }\n",
       "</style>\n",
       "<table border=\"1\" class=\"dataframe\">\n",
       "  <thead>\n",
       "    <tr style=\"text-align: right;\">\n",
       "      <th></th>\n",
       "      <th>PassengerId</th>\n",
       "      <th>Survived</th>\n",
       "      <th>Pclass</th>\n",
       "      <th>Name</th>\n",
       "      <th>Sex</th>\n",
       "      <th>Age</th>\n",
       "      <th>SibSp</th>\n",
       "      <th>Parch</th>\n",
       "      <th>Ticket</th>\n",
       "      <th>Fare</th>\n",
       "      <th>Cabin</th>\n",
       "      <th>Embarked</th>\n",
       "    </tr>\n",
       "  </thead>\n",
       "  <tbody>\n",
       "    <tr>\n",
       "      <th>0</th>\n",
       "      <td>1</td>\n",
       "      <td>0</td>\n",
       "      <td>3</td>\n",
       "      <td>Braund, Mr. Owen Harris</td>\n",
       "      <td>male</td>\n",
       "      <td>22.0</td>\n",
       "      <td>1</td>\n",
       "      <td>0</td>\n",
       "      <td>A/5 21171</td>\n",
       "      <td>7.2500</td>\n",
       "      <td>NaN</td>\n",
       "      <td>S</td>\n",
       "    </tr>\n",
       "    <tr>\n",
       "      <th>1</th>\n",
       "      <td>2</td>\n",
       "      <td>1</td>\n",
       "      <td>1</td>\n",
       "      <td>Cumings, Mrs. John Bradley (Florence Briggs Th...</td>\n",
       "      <td>female</td>\n",
       "      <td>38.0</td>\n",
       "      <td>1</td>\n",
       "      <td>0</td>\n",
       "      <td>PC 17599</td>\n",
       "      <td>71.2833</td>\n",
       "      <td>C85</td>\n",
       "      <td>C</td>\n",
       "    </tr>\n",
       "    <tr>\n",
       "      <th>2</th>\n",
       "      <td>3</td>\n",
       "      <td>1</td>\n",
       "      <td>3</td>\n",
       "      <td>Heikkinen, Miss. Laina</td>\n",
       "      <td>female</td>\n",
       "      <td>26.0</td>\n",
       "      <td>0</td>\n",
       "      <td>0</td>\n",
       "      <td>STON/O2. 3101282</td>\n",
       "      <td>7.9250</td>\n",
       "      <td>NaN</td>\n",
       "      <td>S</td>\n",
       "    </tr>\n",
       "    <tr>\n",
       "      <th>3</th>\n",
       "      <td>4</td>\n",
       "      <td>1</td>\n",
       "      <td>1</td>\n",
       "      <td>Futrelle, Mrs. Jacques Heath (Lily May Peel)</td>\n",
       "      <td>female</td>\n",
       "      <td>35.0</td>\n",
       "      <td>1</td>\n",
       "      <td>0</td>\n",
       "      <td>113803</td>\n",
       "      <td>53.1000</td>\n",
       "      <td>C123</td>\n",
       "      <td>S</td>\n",
       "    </tr>\n",
       "    <tr>\n",
       "      <th>4</th>\n",
       "      <td>5</td>\n",
       "      <td>0</td>\n",
       "      <td>3</td>\n",
       "      <td>Allen, Mr. William Henry</td>\n",
       "      <td>male</td>\n",
       "      <td>35.0</td>\n",
       "      <td>0</td>\n",
       "      <td>0</td>\n",
       "      <td>373450</td>\n",
       "      <td>8.0500</td>\n",
       "      <td>NaN</td>\n",
       "      <td>S</td>\n",
       "    </tr>\n",
       "    <tr>\n",
       "      <th>...</th>\n",
       "      <td>...</td>\n",
       "      <td>...</td>\n",
       "      <td>...</td>\n",
       "      <td>...</td>\n",
       "      <td>...</td>\n",
       "      <td>...</td>\n",
       "      <td>...</td>\n",
       "      <td>...</td>\n",
       "      <td>...</td>\n",
       "      <td>...</td>\n",
       "      <td>...</td>\n",
       "      <td>...</td>\n",
       "    </tr>\n",
       "    <tr>\n",
       "      <th>886</th>\n",
       "      <td>887</td>\n",
       "      <td>0</td>\n",
       "      <td>2</td>\n",
       "      <td>Montvila, Rev. Juozas</td>\n",
       "      <td>male</td>\n",
       "      <td>27.0</td>\n",
       "      <td>0</td>\n",
       "      <td>0</td>\n",
       "      <td>211536</td>\n",
       "      <td>13.0000</td>\n",
       "      <td>NaN</td>\n",
       "      <td>S</td>\n",
       "    </tr>\n",
       "    <tr>\n",
       "      <th>887</th>\n",
       "      <td>888</td>\n",
       "      <td>1</td>\n",
       "      <td>1</td>\n",
       "      <td>Graham, Miss. Margaret Edith</td>\n",
       "      <td>female</td>\n",
       "      <td>19.0</td>\n",
       "      <td>0</td>\n",
       "      <td>0</td>\n",
       "      <td>112053</td>\n",
       "      <td>30.0000</td>\n",
       "      <td>B42</td>\n",
       "      <td>S</td>\n",
       "    </tr>\n",
       "    <tr>\n",
       "      <th>888</th>\n",
       "      <td>889</td>\n",
       "      <td>0</td>\n",
       "      <td>3</td>\n",
       "      <td>Johnston, Miss. Catherine Helen \"Carrie\"</td>\n",
       "      <td>female</td>\n",
       "      <td>NaN</td>\n",
       "      <td>1</td>\n",
       "      <td>2</td>\n",
       "      <td>W./C. 6607</td>\n",
       "      <td>23.4500</td>\n",
       "      <td>NaN</td>\n",
       "      <td>S</td>\n",
       "    </tr>\n",
       "    <tr>\n",
       "      <th>889</th>\n",
       "      <td>890</td>\n",
       "      <td>1</td>\n",
       "      <td>1</td>\n",
       "      <td>Behr, Mr. Karl Howell</td>\n",
       "      <td>male</td>\n",
       "      <td>26.0</td>\n",
       "      <td>0</td>\n",
       "      <td>0</td>\n",
       "      <td>111369</td>\n",
       "      <td>30.0000</td>\n",
       "      <td>C148</td>\n",
       "      <td>C</td>\n",
       "    </tr>\n",
       "    <tr>\n",
       "      <th>890</th>\n",
       "      <td>891</td>\n",
       "      <td>0</td>\n",
       "      <td>3</td>\n",
       "      <td>Dooley, Mr. Patrick</td>\n",
       "      <td>male</td>\n",
       "      <td>32.0</td>\n",
       "      <td>0</td>\n",
       "      <td>0</td>\n",
       "      <td>370376</td>\n",
       "      <td>7.7500</td>\n",
       "      <td>NaN</td>\n",
       "      <td>Q</td>\n",
       "    </tr>\n",
       "  </tbody>\n",
       "</table>\n",
       "<p>891 rows × 12 columns</p>\n",
       "</div>"
      ],
      "text/plain": [
       "     PassengerId  Survived  Pclass  \\\n",
       "0              1         0       3   \n",
       "1              2         1       1   \n",
       "2              3         1       3   \n",
       "3              4         1       1   \n",
       "4              5         0       3   \n",
       "..           ...       ...     ...   \n",
       "886          887         0       2   \n",
       "887          888         1       1   \n",
       "888          889         0       3   \n",
       "889          890         1       1   \n",
       "890          891         0       3   \n",
       "\n",
       "                                                  Name     Sex   Age  SibSp  \\\n",
       "0                              Braund, Mr. Owen Harris    male  22.0      1   \n",
       "1    Cumings, Mrs. John Bradley (Florence Briggs Th...  female  38.0      1   \n",
       "2                               Heikkinen, Miss. Laina  female  26.0      0   \n",
       "3         Futrelle, Mrs. Jacques Heath (Lily May Peel)  female  35.0      1   \n",
       "4                             Allen, Mr. William Henry    male  35.0      0   \n",
       "..                                                 ...     ...   ...    ...   \n",
       "886                              Montvila, Rev. Juozas    male  27.0      0   \n",
       "887                       Graham, Miss. Margaret Edith  female  19.0      0   \n",
       "888           Johnston, Miss. Catherine Helen \"Carrie\"  female   NaN      1   \n",
       "889                              Behr, Mr. Karl Howell    male  26.0      0   \n",
       "890                                Dooley, Mr. Patrick    male  32.0      0   \n",
       "\n",
       "     Parch            Ticket     Fare Cabin Embarked  \n",
       "0        0         A/5 21171   7.2500   NaN        S  \n",
       "1        0          PC 17599  71.2833   C85        C  \n",
       "2        0  STON/O2. 3101282   7.9250   NaN        S  \n",
       "3        0            113803  53.1000  C123        S  \n",
       "4        0            373450   8.0500   NaN        S  \n",
       "..     ...               ...      ...   ...      ...  \n",
       "886      0            211536  13.0000   NaN        S  \n",
       "887      0            112053  30.0000   B42        S  \n",
       "888      2        W./C. 6607  23.4500   NaN        S  \n",
       "889      0            111369  30.0000  C148        C  \n",
       "890      0            370376   7.7500   NaN        Q  \n",
       "\n",
       "[891 rows x 12 columns]"
      ]
     },
     "execution_count": 42,
     "metadata": {},
     "output_type": "execute_result"
    }
   ],
   "source": [
    "df =pd.read_csv(\"titanic_train.csv\")\n",
    "df"
   ]
  },
  {
   "cell_type": "markdown",
   "id": "ed6ef1db",
   "metadata": {},
   "source": [
    "### Filtering a dataframe - s.str.contains(pattern)"
   ]
  },
  {
   "cell_type": "code",
   "execution_count": 43,
   "id": "38f9c670",
   "metadata": {},
   "outputs": [
    {
     "data": {
      "text/html": [
       "<div>\n",
       "<style scoped>\n",
       "    .dataframe tbody tr th:only-of-type {\n",
       "        vertical-align: middle;\n",
       "    }\n",
       "\n",
       "    .dataframe tbody tr th {\n",
       "        vertical-align: top;\n",
       "    }\n",
       "\n",
       "    .dataframe thead th {\n",
       "        text-align: right;\n",
       "    }\n",
       "</style>\n",
       "<table border=\"1\" class=\"dataframe\">\n",
       "  <thead>\n",
       "    <tr style=\"text-align: right;\">\n",
       "      <th></th>\n",
       "      <th>PassengerId</th>\n",
       "      <th>Survived</th>\n",
       "      <th>Pclass</th>\n",
       "      <th>Name</th>\n",
       "      <th>Sex</th>\n",
       "      <th>Age</th>\n",
       "      <th>SibSp</th>\n",
       "      <th>Parch</th>\n",
       "      <th>Ticket</th>\n",
       "      <th>Fare</th>\n",
       "      <th>Cabin</th>\n",
       "      <th>Embarked</th>\n",
       "    </tr>\n",
       "  </thead>\n",
       "  <tbody>\n",
       "    <tr>\n",
       "      <th>33</th>\n",
       "      <td>34</td>\n",
       "      <td>0</td>\n",
       "      <td>2</td>\n",
       "      <td>Wheadon, Mr. Edward H</td>\n",
       "      <td>male</td>\n",
       "      <td>66.0</td>\n",
       "      <td>0</td>\n",
       "      <td>0</td>\n",
       "      <td>C.A. 24579</td>\n",
       "      <td>10.500</td>\n",
       "      <td>NaN</td>\n",
       "      <td>S</td>\n",
       "    </tr>\n",
       "    <tr>\n",
       "      <th>56</th>\n",
       "      <td>57</td>\n",
       "      <td>1</td>\n",
       "      <td>2</td>\n",
       "      <td>Rugg, Miss. Emily</td>\n",
       "      <td>female</td>\n",
       "      <td>21.0</td>\n",
       "      <td>0</td>\n",
       "      <td>0</td>\n",
       "      <td>C.A. 31026</td>\n",
       "      <td>10.500</td>\n",
       "      <td>NaN</td>\n",
       "      <td>S</td>\n",
       "    </tr>\n",
       "    <tr>\n",
       "      <th>58</th>\n",
       "      <td>59</td>\n",
       "      <td>1</td>\n",
       "      <td>2</td>\n",
       "      <td>West, Miss. Constance Mirium</td>\n",
       "      <td>female</td>\n",
       "      <td>5.0</td>\n",
       "      <td>1</td>\n",
       "      <td>2</td>\n",
       "      <td>C.A. 34651</td>\n",
       "      <td>27.750</td>\n",
       "      <td>NaN</td>\n",
       "      <td>S</td>\n",
       "    </tr>\n",
       "    <tr>\n",
       "      <th>59</th>\n",
       "      <td>60</td>\n",
       "      <td>0</td>\n",
       "      <td>3</td>\n",
       "      <td>Goodwin, Master. William Frederick</td>\n",
       "      <td>male</td>\n",
       "      <td>11.0</td>\n",
       "      <td>5</td>\n",
       "      <td>2</td>\n",
       "      <td>CA 2144</td>\n",
       "      <td>46.900</td>\n",
       "      <td>NaN</td>\n",
       "      <td>S</td>\n",
       "    </tr>\n",
       "    <tr>\n",
       "      <th>66</th>\n",
       "      <td>67</td>\n",
       "      <td>1</td>\n",
       "      <td>2</td>\n",
       "      <td>Nye, Mrs. (Elizabeth Ramell)</td>\n",
       "      <td>female</td>\n",
       "      <td>29.0</td>\n",
       "      <td>0</td>\n",
       "      <td>0</td>\n",
       "      <td>C.A. 29395</td>\n",
       "      <td>10.500</td>\n",
       "      <td>F33</td>\n",
       "      <td>S</td>\n",
       "    </tr>\n",
       "    <tr>\n",
       "      <th>70</th>\n",
       "      <td>71</td>\n",
       "      <td>0</td>\n",
       "      <td>2</td>\n",
       "      <td>Jenkin, Mr. Stephen Curnow</td>\n",
       "      <td>male</td>\n",
       "      <td>32.0</td>\n",
       "      <td>0</td>\n",
       "      <td>0</td>\n",
       "      <td>C.A. 33111</td>\n",
       "      <td>10.500</td>\n",
       "      <td>NaN</td>\n",
       "      <td>S</td>\n",
       "    </tr>\n",
       "    <tr>\n",
       "      <th>71</th>\n",
       "      <td>72</td>\n",
       "      <td>0</td>\n",
       "      <td>3</td>\n",
       "      <td>Goodwin, Miss. Lillian Amy</td>\n",
       "      <td>female</td>\n",
       "      <td>16.0</td>\n",
       "      <td>5</td>\n",
       "      <td>2</td>\n",
       "      <td>CA 2144</td>\n",
       "      <td>46.900</td>\n",
       "      <td>NaN</td>\n",
       "      <td>S</td>\n",
       "    </tr>\n",
       "    <tr>\n",
       "      <th>93</th>\n",
       "      <td>94</td>\n",
       "      <td>0</td>\n",
       "      <td>3</td>\n",
       "      <td>Dean, Mr. Bertram Frank</td>\n",
       "      <td>male</td>\n",
       "      <td>26.0</td>\n",
       "      <td>1</td>\n",
       "      <td>2</td>\n",
       "      <td>C.A. 2315</td>\n",
       "      <td>20.575</td>\n",
       "      <td>NaN</td>\n",
       "      <td>S</td>\n",
       "    </tr>\n",
       "    <tr>\n",
       "      <th>134</th>\n",
       "      <td>135</td>\n",
       "      <td>0</td>\n",
       "      <td>2</td>\n",
       "      <td>Sobey, Mr. Samuel James Hayden</td>\n",
       "      <td>male</td>\n",
       "      <td>25.0</td>\n",
       "      <td>0</td>\n",
       "      <td>0</td>\n",
       "      <td>C.A. 29178</td>\n",
       "      <td>13.000</td>\n",
       "      <td>NaN</td>\n",
       "      <td>S</td>\n",
       "    </tr>\n",
       "    <tr>\n",
       "      <th>145</th>\n",
       "      <td>146</td>\n",
       "      <td>0</td>\n",
       "      <td>2</td>\n",
       "      <td>Nicholls, Mr. Joseph Charles</td>\n",
       "      <td>male</td>\n",
       "      <td>19.0</td>\n",
       "      <td>1</td>\n",
       "      <td>1</td>\n",
       "      <td>C.A. 33112</td>\n",
       "      <td>36.750</td>\n",
       "      <td>NaN</td>\n",
       "      <td>S</td>\n",
       "    </tr>\n",
       "  </tbody>\n",
       "</table>\n",
       "</div>"
      ],
      "text/plain": [
       "     PassengerId  Survived  Pclass                                Name  \\\n",
       "33            34         0       2               Wheadon, Mr. Edward H   \n",
       "56            57         1       2                   Rugg, Miss. Emily   \n",
       "58            59         1       2        West, Miss. Constance Mirium   \n",
       "59            60         0       3  Goodwin, Master. William Frederick   \n",
       "66            67         1       2        Nye, Mrs. (Elizabeth Ramell)   \n",
       "70            71         0       2          Jenkin, Mr. Stephen Curnow   \n",
       "71            72         0       3          Goodwin, Miss. Lillian Amy   \n",
       "93            94         0       3             Dean, Mr. Bertram Frank   \n",
       "134          135         0       2      Sobey, Mr. Samuel James Hayden   \n",
       "145          146         0       2        Nicholls, Mr. Joseph Charles   \n",
       "\n",
       "        Sex   Age  SibSp  Parch      Ticket    Fare Cabin Embarked  \n",
       "33     male  66.0      0      0  C.A. 24579  10.500   NaN        S  \n",
       "56   female  21.0      0      0  C.A. 31026  10.500   NaN        S  \n",
       "58   female   5.0      1      2  C.A. 34651  27.750   NaN        S  \n",
       "59     male  11.0      5      2     CA 2144  46.900   NaN        S  \n",
       "66   female  29.0      0      0  C.A. 29395  10.500   F33        S  \n",
       "70     male  32.0      0      0  C.A. 33111  10.500   NaN        S  \n",
       "71   female  16.0      5      2     CA 2144  46.900   NaN        S  \n",
       "93     male  26.0      1      2   C.A. 2315  20.575   NaN        S  \n",
       "134    male  25.0      0      0  C.A. 29178  13.000   NaN        S  \n",
       "145    male  19.0      1      1  C.A. 33112  36.750   NaN        S  "
      ]
     },
     "execution_count": 43,
     "metadata": {},
     "output_type": "execute_result"
    }
   ],
   "source": [
    "pattern =r'C\\.?A\\.?'\n",
    "mask = df['Ticket'].str.contains(pattern)\n",
    "df[mask].head(10)"
   ]
  },
  {
   "cell_type": "code",
   "execution_count": 44,
   "id": "3a826fbd",
   "metadata": {},
   "outputs": [
    {
     "data": {
      "text/plain": [
       "42"
      ]
     },
     "execution_count": 44,
     "metadata": {},
     "output_type": "execute_result"
    }
   ],
   "source": [
    "mask.sum()"
   ]
  },
  {
   "cell_type": "markdown",
   "id": "b63282dc",
   "metadata": {},
   "source": [
    "### Extracting data - s.str.extract(pattern)"
   ]
  },
  {
   "cell_type": "code",
   "execution_count": 45,
   "id": "9bdf5146",
   "metadata": {},
   "outputs": [
    {
     "data": {
      "text/plain": [
       "843    Lemberopolous, Mr. Peter L\n",
       "371     Wiklund, Mr. Jakob Alfred\n",
       "231      Larsson, Mr. Bengt Edvin\n",
       "113       Jussila, Miss. Katriina\n",
       "239        Hunt, Mr. George Henry\n",
       "Name: Name, dtype: object"
      ]
     },
     "execution_count": 45,
     "metadata": {},
     "output_type": "execute_result"
    }
   ],
   "source": [
    "df['Name'].sample(5)"
   ]
  },
  {
   "cell_type": "code",
   "execution_count": 46,
   "id": "fd8e85da",
   "metadata": {},
   "outputs": [
    {
     "data": {
      "text/plain": [
       "Mr          517\n",
       "Miss        182\n",
       "Mrs         125\n",
       "Master       40\n",
       "Dr            7\n",
       "Rev           6\n",
       "Mlle          2\n",
       "Major         2\n",
       "Col           2\n",
       "Countess      1\n",
       "Capt          1\n",
       "Ms            1\n",
       "Sir           1\n",
       "Lady          1\n",
       "Mme           1\n",
       "Don           1\n",
       "Jonkheer      1\n",
       "Name: Name, dtype: int64"
      ]
     },
     "execution_count": 46,
     "metadata": {},
     "output_type": "execute_result"
    }
   ],
   "source": [
    "#Extract all unique titles such as Mr, Miss, and Mrs from passengers name\n",
    "\n",
    "pattern ='\\s(\\w+)\\.'\n",
    "all_ts = df['Name'].str.extract(pattern, expand = False)\n",
    "unique_ts = all_ts.value_counts()\n",
    "unique_ts"
   ]
  },
  {
   "cell_type": "code",
   "execution_count": 47,
   "id": "40f2fc8c",
   "metadata": {},
   "outputs": [
    {
     "data": {
      "text/html": [
       "<div>\n",
       "<style scoped>\n",
       "    .dataframe tbody tr th:only-of-type {\n",
       "        vertical-align: middle;\n",
       "    }\n",
       "\n",
       "    .dataframe tbody tr th {\n",
       "        vertical-align: top;\n",
       "    }\n",
       "\n",
       "    .dataframe thead th {\n",
       "        text-align: right;\n",
       "    }\n",
       "</style>\n",
       "<table border=\"1\" class=\"dataframe\">\n",
       "  <thead>\n",
       "    <tr style=\"text-align: right;\">\n",
       "      <th></th>\n",
       "      <th>0</th>\n",
       "      <th>1</th>\n",
       "      <th>2</th>\n",
       "    </tr>\n",
       "  </thead>\n",
       "  <tbody>\n",
       "    <tr>\n",
       "      <th>0</th>\n",
       "      <td>Braund</td>\n",
       "      <td>Mr.</td>\n",
       "      <td>Owen</td>\n",
       "    </tr>\n",
       "    <tr>\n",
       "      <th>1</th>\n",
       "      <td>Cumings</td>\n",
       "      <td>Mrs.</td>\n",
       "      <td>John</td>\n",
       "    </tr>\n",
       "    <tr>\n",
       "      <th>2</th>\n",
       "      <td>Heikkinen</td>\n",
       "      <td>Miss.</td>\n",
       "      <td>Laina</td>\n",
       "    </tr>\n",
       "    <tr>\n",
       "      <th>3</th>\n",
       "      <td>Futrelle</td>\n",
       "      <td>Mrs.</td>\n",
       "      <td>Jacques</td>\n",
       "    </tr>\n",
       "    <tr>\n",
       "      <th>4</th>\n",
       "      <td>Allen</td>\n",
       "      <td>Mr.</td>\n",
       "      <td>William</td>\n",
       "    </tr>\n",
       "    <tr>\n",
       "      <th>...</th>\n",
       "      <td>...</td>\n",
       "      <td>...</td>\n",
       "      <td>...</td>\n",
       "    </tr>\n",
       "    <tr>\n",
       "      <th>886</th>\n",
       "      <td>Montvila</td>\n",
       "      <td>Rev.</td>\n",
       "      <td>Juozas</td>\n",
       "    </tr>\n",
       "    <tr>\n",
       "      <th>887</th>\n",
       "      <td>Graham</td>\n",
       "      <td>Miss.</td>\n",
       "      <td>Margaret</td>\n",
       "    </tr>\n",
       "    <tr>\n",
       "      <th>888</th>\n",
       "      <td>Johnston</td>\n",
       "      <td>Miss.</td>\n",
       "      <td>Catherine</td>\n",
       "    </tr>\n",
       "    <tr>\n",
       "      <th>889</th>\n",
       "      <td>Behr</td>\n",
       "      <td>Mr.</td>\n",
       "      <td>Karl</td>\n",
       "    </tr>\n",
       "    <tr>\n",
       "      <th>890</th>\n",
       "      <td>Dooley</td>\n",
       "      <td>Mr.</td>\n",
       "      <td>Patrick</td>\n",
       "    </tr>\n",
       "  </tbody>\n",
       "</table>\n",
       "<p>891 rows × 3 columns</p>\n",
       "</div>"
      ],
      "text/plain": [
       "             0      1          2\n",
       "0       Braund    Mr.       Owen\n",
       "1      Cumings   Mrs.       John\n",
       "2    Heikkinen  Miss.      Laina\n",
       "3     Futrelle   Mrs.    Jacques\n",
       "4        Allen    Mr.    William\n",
       "..         ...    ...        ...\n",
       "886   Montvila   Rev.     Juozas\n",
       "887     Graham  Miss.   Margaret\n",
       "888   Johnston  Miss.  Catherine\n",
       "889       Behr    Mr.       Karl\n",
       "890     Dooley    Mr.    Patrick\n",
       "\n",
       "[891 rows x 3 columns]"
      ]
     },
     "execution_count": 47,
     "metadata": {},
     "output_type": "execute_result"
    }
   ],
   "source": [
    "#extract first and last name\n",
    "\n",
    "pattern =r'(\\w+), (\\w+\\.) (\\w+).*'\n",
    "df_name = df['Name'].str.extract(pattern, flags= re.I) #re.I is the index value\n",
    "df_name"
   ]
  },
  {
   "cell_type": "markdown",
   "id": "142df5cb",
   "metadata": {},
   "source": [
    "### Replacing values in a column - s.str.replace(pattern, repl)"
   ]
  },
  {
   "cell_type": "code",
   "execution_count": 48,
   "id": "1c864122",
   "metadata": {},
   "outputs": [
    {
     "name": "stderr",
     "output_type": "stream",
     "text": [
      "C:\\Users\\Rima Das\\AppData\\Local\\Temp\\ipykernel_5556\\3907717571.py:4: FutureWarning: The default value of regex will change from True to False in a future version.\n",
      "  df['Name'].str.replace(pattern, lambda m:m.group().upper())\n"
     ]
    },
    {
     "data": {
      "text/plain": [
       "0                                Braund, MR. Owen Harris\n",
       "1      Cumings, MRS. John Bradley (Florence Briggs Th...\n",
       "2                                 Heikkinen, MISS. Laina\n",
       "3           Futrelle, MRS. Jacques Heath (Lily May Peel)\n",
       "4                               Allen, MR. William Henry\n",
       "                             ...                        \n",
       "886                                Montvila, REV. Juozas\n",
       "887                         Graham, MISS. Margaret Edith\n",
       "888             Johnston, MISS. Catherine Helen \"Carrie\"\n",
       "889                                Behr, MR. Karl Howell\n",
       "890                                  Dooley, MR. Patrick\n",
       "Name: Name, Length: 891, dtype: object"
      ]
     },
     "execution_count": 48,
     "metadata": {},
     "output_type": "execute_result"
    }
   ],
   "source": [
    "# Replace all the titles with capital letters\n",
    "\n",
    "pattern = r'\\s(\\w+)\\.'\n",
    "df['Name'].str.replace(pattern, lambda m:m.group().upper())"
   ]
  },
  {
   "cell_type": "code",
   "execution_count": 49,
   "id": "283fdd3f",
   "metadata": {},
   "outputs": [
    {
     "name": "stderr",
     "output_type": "stream",
     "text": [
      "C:\\Users\\Rima Das\\AppData\\Local\\Temp\\ipykernel_5556\\163978780.py:4: FutureWarning: The default value of regex will change from True to False in a future version.\n",
      "  df['Name'].str.replace(pattern, lambda m:m.group().upper())\n"
     ]
    },
    {
     "data": {
      "text/plain": [
       "0                                Braund, MR. Owen Harris\n",
       "1      Cumings, MRS. John Bradley (Florence Briggs Th...\n",
       "2                                 Heikkinen, Miss. Laina\n",
       "3           Futrelle, MRS. Jacques Heath (Lily May Peel)\n",
       "4                               Allen, MR. William Henry\n",
       "                             ...                        \n",
       "886                                Montvila, Rev. Juozas\n",
       "887                         Graham, Miss. Margaret Edith\n",
       "888             Johnston, Miss. Catherine Helen \"Carrie\"\n",
       "889                                Behr, MR. Karl Howell\n",
       "890                                  Dooley, MR. Patrick\n",
       "Name: Name, Length: 891, dtype: object"
      ]
     },
     "execution_count": 49,
     "metadata": {},
     "output_type": "execute_result"
    }
   ],
   "source": [
    "# Replace only Mr and Mrs from the titles with capital letters\n",
    "\n",
    "pattern = r'\\s(Mr|Mrs)\\.\\s'\n",
    "df['Name'].str.replace(pattern, lambda m:m.group().upper())"
   ]
  },
  {
   "cell_type": "code",
   "execution_count": 50,
   "id": "e4a38685",
   "metadata": {},
   "outputs": [
    {
     "data": {
      "text/html": [
       "<div>\n",
       "<style scoped>\n",
       "    .dataframe tbody tr th:only-of-type {\n",
       "        vertical-align: middle;\n",
       "    }\n",
       "\n",
       "    .dataframe tbody tr th {\n",
       "        vertical-align: top;\n",
       "    }\n",
       "\n",
       "    .dataframe thead th {\n",
       "        text-align: right;\n",
       "    }\n",
       "</style>\n",
       "<table border=\"1\" class=\"dataframe\">\n",
       "  <thead>\n",
       "    <tr style=\"text-align: right;\">\n",
       "      <th></th>\n",
       "      <th>SUMMARY</th>\n",
       "    </tr>\n",
       "  </thead>\n",
       "  <tbody>\n",
       "    <tr>\n",
       "      <th>0</th>\n",
       "      <td>hello world!</td>\n",
       "    </tr>\n",
       "    <tr>\n",
       "      <th>1</th>\n",
       "      <td>xxxx test</td>\n",
       "    </tr>\n",
       "    <tr>\n",
       "      <th>2</th>\n",
       "      <td>123four</td>\n",
       "    </tr>\n",
       "    <tr>\n",
       "      <th>3</th>\n",
       "      <td>five:</td>\n",
       "    </tr>\n",
       "    <tr>\n",
       "      <th>4</th>\n",
       "      <td>six....</td>\n",
       "    </tr>\n",
       "  </tbody>\n",
       "</table>\n",
       "</div>"
      ],
      "text/plain": [
       "        SUMMARY\n",
       "0  hello world!\n",
       "1     xxxx test\n",
       "2       123four\n",
       "3         five:\n",
       "4       six...."
      ]
     },
     "execution_count": 50,
     "metadata": {},
     "output_type": "execute_result"
    }
   ],
   "source": [
    "df = pd.DataFrame ({\"SUMMARY\":[\"hello world!\", \"xxxx test\", \"123four\", \"five:\", \"six....\"]})\n",
    "df"
   ]
  },
  {
   "cell_type": "code",
   "execution_count": 51,
   "id": "7313a07c",
   "metadata": {},
   "outputs": [
    {
     "name": "stderr",
     "output_type": "stream",
     "text": [
      "C:\\Users\\Rima Das\\AppData\\Local\\Temp\\ipykernel_5556\\244283332.py:1: FutureWarning: The default value of regex will change from True to False in a future version.\n",
      "  df.SUMMARY.str.replace(r'[^a-zA-Z\\s]+|X{2,}',\"\")\n"
     ]
    },
    {
     "data": {
      "text/plain": [
       "0    hello world\n",
       "1      xxxx test\n",
       "2           four\n",
       "3           five\n",
       "4            six\n",
       "Name: SUMMARY, dtype: object"
      ]
     },
     "execution_count": 51,
     "metadata": {},
     "output_type": "execute_result"
    }
   ],
   "source": [
    "df.SUMMARY.str.replace(r'[^a-zA-Z\\s]+|X{2,}',\"\")"
   ]
  },
  {
   "cell_type": "markdown",
   "id": "1893e411",
   "metadata": {},
   "source": [
    "## More Methods"
   ]
  },
  {
   "cell_type": "markdown",
   "id": "1668860b",
   "metadata": {},
   "source": [
    "There are several pandas methods which accept the regex in pandas to find the pattern in a string within a Series or DataFrame object.\n",
    "\n",
    "These methods work on the same line as Pythons re module. Its really helpful if you want to find the names starting with aparticular character or search for a pattern within a dataframe column or extract the dates from the"
   ]
  },
  {
   "cell_type": "markdown",
   "id": "e3f83a3d",
   "metadata": {},
   "source": [
    "Here are the pandas functions that accepts regular expression:\n",
    "\n",
    "* **count()** - Count occurences of pattern in each string of the Series/Index\n",
    "* **replace()** - Replace the search string or pattern with the given value\n",
    "* **contains()** - Test if pattern or regex is contained with a string of a Series or index. Calls re.search() and returns a boolean\n",
    "* **extract()** - Extract groups in the regex pattern as column in a DataFrame and returns the captured groups.\n",
    "* **findall()** - Find all occurences of pattern or regular expression in the Series/Index. Equivalent to applying re.findall() on all elements\n",
    "* **match()** - Determine if each string matches a regular expression. Calls re.match() and returns a boolean\n",
    "* **split()** - Equivalent to str.split() and accept string or regular expression to split on\n",
    "* **rsplit()** - Equivalent to str.rsplit() and splits in string in the Series/Index from the end Create Data"
   ]
  },
  {
   "cell_type": "code",
   "execution_count": 52,
   "id": "db513700",
   "metadata": {},
   "outputs": [
    {
     "data": {
      "text/html": [
       "<div>\n",
       "<style scoped>\n",
       "    .dataframe tbody tr th:only-of-type {\n",
       "        vertical-align: middle;\n",
       "    }\n",
       "\n",
       "    .dataframe tbody tr th {\n",
       "        vertical-align: top;\n",
       "    }\n",
       "\n",
       "    .dataframe thead th {\n",
       "        text-align: right;\n",
       "    }\n",
       "</style>\n",
       "<table border=\"1\" class=\"dataframe\">\n",
       "  <thead>\n",
       "    <tr style=\"text-align: right;\">\n",
       "      <th></th>\n",
       "      <th>Country</th>\n",
       "      <th>Region</th>\n",
       "      <th>Happiness Rank</th>\n",
       "      <th>Happiness Score</th>\n",
       "      <th>Standard Error</th>\n",
       "      <th>Economy (GDP per Capita)</th>\n",
       "      <th>Family</th>\n",
       "      <th>Health (Life Expectancy)</th>\n",
       "      <th>Freedom</th>\n",
       "      <th>Trust (Government Corruption)</th>\n",
       "      <th>Generosity</th>\n",
       "      <th>Dystopia Residual</th>\n",
       "    </tr>\n",
       "  </thead>\n",
       "  <tbody>\n",
       "    <tr>\n",
       "      <th>0</th>\n",
       "      <td>Switzerland</td>\n",
       "      <td>Western Europe</td>\n",
       "      <td>1</td>\n",
       "      <td>7.587</td>\n",
       "      <td>0.03411</td>\n",
       "      <td>1.39651</td>\n",
       "      <td>1.34951</td>\n",
       "      <td>0.94143</td>\n",
       "      <td>0.66557</td>\n",
       "      <td>0.41978</td>\n",
       "      <td>0.29678</td>\n",
       "      <td>2.51738</td>\n",
       "    </tr>\n",
       "    <tr>\n",
       "      <th>1</th>\n",
       "      <td>Iceland</td>\n",
       "      <td>Western Europe</td>\n",
       "      <td>2</td>\n",
       "      <td>7.561</td>\n",
       "      <td>0.04884</td>\n",
       "      <td>1.30232</td>\n",
       "      <td>1.40223</td>\n",
       "      <td>0.94784</td>\n",
       "      <td>0.62877</td>\n",
       "      <td>0.14145</td>\n",
       "      <td>0.43630</td>\n",
       "      <td>2.70201</td>\n",
       "    </tr>\n",
       "    <tr>\n",
       "      <th>2</th>\n",
       "      <td>Denmark</td>\n",
       "      <td>Western Europe</td>\n",
       "      <td>3</td>\n",
       "      <td>7.527</td>\n",
       "      <td>0.03328</td>\n",
       "      <td>1.32548</td>\n",
       "      <td>1.36058</td>\n",
       "      <td>0.87464</td>\n",
       "      <td>0.64938</td>\n",
       "      <td>0.48357</td>\n",
       "      <td>0.34139</td>\n",
       "      <td>2.49204</td>\n",
       "    </tr>\n",
       "    <tr>\n",
       "      <th>3</th>\n",
       "      <td>Norway</td>\n",
       "      <td>Western Europe</td>\n",
       "      <td>4</td>\n",
       "      <td>7.522</td>\n",
       "      <td>0.03880</td>\n",
       "      <td>1.45900</td>\n",
       "      <td>1.33095</td>\n",
       "      <td>0.88521</td>\n",
       "      <td>0.66973</td>\n",
       "      <td>0.36503</td>\n",
       "      <td>0.34699</td>\n",
       "      <td>2.46531</td>\n",
       "    </tr>\n",
       "    <tr>\n",
       "      <th>4</th>\n",
       "      <td>Canada</td>\n",
       "      <td>North America</td>\n",
       "      <td>5</td>\n",
       "      <td>7.427</td>\n",
       "      <td>0.03553</td>\n",
       "      <td>1.32629</td>\n",
       "      <td>1.32261</td>\n",
       "      <td>0.90563</td>\n",
       "      <td>0.63297</td>\n",
       "      <td>0.32957</td>\n",
       "      <td>0.45811</td>\n",
       "      <td>2.45176</td>\n",
       "    </tr>\n",
       "    <tr>\n",
       "      <th>...</th>\n",
       "      <td>...</td>\n",
       "      <td>...</td>\n",
       "      <td>...</td>\n",
       "      <td>...</td>\n",
       "      <td>...</td>\n",
       "      <td>...</td>\n",
       "      <td>...</td>\n",
       "      <td>...</td>\n",
       "      <td>...</td>\n",
       "      <td>...</td>\n",
       "      <td>...</td>\n",
       "      <td>...</td>\n",
       "    </tr>\n",
       "    <tr>\n",
       "      <th>153</th>\n",
       "      <td>Rwanda</td>\n",
       "      <td>Sub-Saharan Africa</td>\n",
       "      <td>154</td>\n",
       "      <td>3.465</td>\n",
       "      <td>0.03464</td>\n",
       "      <td>0.22208</td>\n",
       "      <td>0.77370</td>\n",
       "      <td>0.42864</td>\n",
       "      <td>0.59201</td>\n",
       "      <td>0.55191</td>\n",
       "      <td>0.22628</td>\n",
       "      <td>0.67042</td>\n",
       "    </tr>\n",
       "    <tr>\n",
       "      <th>154</th>\n",
       "      <td>Benin</td>\n",
       "      <td>Sub-Saharan Africa</td>\n",
       "      <td>155</td>\n",
       "      <td>3.340</td>\n",
       "      <td>0.03656</td>\n",
       "      <td>0.28665</td>\n",
       "      <td>0.35386</td>\n",
       "      <td>0.31910</td>\n",
       "      <td>0.48450</td>\n",
       "      <td>0.08010</td>\n",
       "      <td>0.18260</td>\n",
       "      <td>1.63328</td>\n",
       "    </tr>\n",
       "    <tr>\n",
       "      <th>155</th>\n",
       "      <td>Syria</td>\n",
       "      <td>Middle East and Northern Africa</td>\n",
       "      <td>156</td>\n",
       "      <td>3.006</td>\n",
       "      <td>0.05015</td>\n",
       "      <td>0.66320</td>\n",
       "      <td>0.47489</td>\n",
       "      <td>0.72193</td>\n",
       "      <td>0.15684</td>\n",
       "      <td>0.18906</td>\n",
       "      <td>0.47179</td>\n",
       "      <td>0.32858</td>\n",
       "    </tr>\n",
       "    <tr>\n",
       "      <th>156</th>\n",
       "      <td>Burundi</td>\n",
       "      <td>Sub-Saharan Africa</td>\n",
       "      <td>157</td>\n",
       "      <td>2.905</td>\n",
       "      <td>0.08658</td>\n",
       "      <td>0.01530</td>\n",
       "      <td>0.41587</td>\n",
       "      <td>0.22396</td>\n",
       "      <td>0.11850</td>\n",
       "      <td>0.10062</td>\n",
       "      <td>0.19727</td>\n",
       "      <td>1.83302</td>\n",
       "    </tr>\n",
       "    <tr>\n",
       "      <th>157</th>\n",
       "      <td>Togo</td>\n",
       "      <td>Sub-Saharan Africa</td>\n",
       "      <td>158</td>\n",
       "      <td>2.839</td>\n",
       "      <td>0.06727</td>\n",
       "      <td>0.20868</td>\n",
       "      <td>0.13995</td>\n",
       "      <td>0.28443</td>\n",
       "      <td>0.36453</td>\n",
       "      <td>0.10731</td>\n",
       "      <td>0.16681</td>\n",
       "      <td>1.56726</td>\n",
       "    </tr>\n",
       "  </tbody>\n",
       "</table>\n",
       "<p>158 rows × 12 columns</p>\n",
       "</div>"
      ],
      "text/plain": [
       "         Country                           Region  Happiness Rank  \\\n",
       "0    Switzerland                   Western Europe               1   \n",
       "1        Iceland                   Western Europe               2   \n",
       "2        Denmark                   Western Europe               3   \n",
       "3         Norway                   Western Europe               4   \n",
       "4         Canada                    North America               5   \n",
       "..           ...                              ...             ...   \n",
       "153       Rwanda               Sub-Saharan Africa             154   \n",
       "154        Benin               Sub-Saharan Africa             155   \n",
       "155        Syria  Middle East and Northern Africa             156   \n",
       "156      Burundi               Sub-Saharan Africa             157   \n",
       "157         Togo               Sub-Saharan Africa             158   \n",
       "\n",
       "     Happiness Score  Standard Error  Economy (GDP per Capita)   Family  \\\n",
       "0              7.587         0.03411                   1.39651  1.34951   \n",
       "1              7.561         0.04884                   1.30232  1.40223   \n",
       "2              7.527         0.03328                   1.32548  1.36058   \n",
       "3              7.522         0.03880                   1.45900  1.33095   \n",
       "4              7.427         0.03553                   1.32629  1.32261   \n",
       "..               ...             ...                       ...      ...   \n",
       "153            3.465         0.03464                   0.22208  0.77370   \n",
       "154            3.340         0.03656                   0.28665  0.35386   \n",
       "155            3.006         0.05015                   0.66320  0.47489   \n",
       "156            2.905         0.08658                   0.01530  0.41587   \n",
       "157            2.839         0.06727                   0.20868  0.13995   \n",
       "\n",
       "     Health (Life Expectancy)  Freedom  Trust (Government Corruption)  \\\n",
       "0                     0.94143  0.66557                        0.41978   \n",
       "1                     0.94784  0.62877                        0.14145   \n",
       "2                     0.87464  0.64938                        0.48357   \n",
       "3                     0.88521  0.66973                        0.36503   \n",
       "4                     0.90563  0.63297                        0.32957   \n",
       "..                        ...      ...                            ...   \n",
       "153                   0.42864  0.59201                        0.55191   \n",
       "154                   0.31910  0.48450                        0.08010   \n",
       "155                   0.72193  0.15684                        0.18906   \n",
       "156                   0.22396  0.11850                        0.10062   \n",
       "157                   0.28443  0.36453                        0.10731   \n",
       "\n",
       "     Generosity  Dystopia Residual  \n",
       "0       0.29678            2.51738  \n",
       "1       0.43630            2.70201  \n",
       "2       0.34139            2.49204  \n",
       "3       0.34699            2.46531  \n",
       "4       0.45811            2.45176  \n",
       "..          ...                ...  \n",
       "153     0.22628            0.67042  \n",
       "154     0.18260            1.63328  \n",
       "155     0.47179            0.32858  \n",
       "156     0.19727            1.83302  \n",
       "157     0.16681            1.56726  \n",
       "\n",
       "[158 rows x 12 columns]"
      ]
     },
     "execution_count": 52,
     "metadata": {},
     "output_type": "execute_result"
    }
   ],
   "source": [
    "data = pd.read_csv('happiness_score_dataset.csv')\n",
    "data"
   ]
  },
  {
   "cell_type": "markdown",
   "id": "456efcde",
   "metadata": {},
   "source": [
    "## Pandas Extract"
   ]
  },
  {
   "cell_type": "markdown",
   "id": "3c103ab3",
   "metadata": {},
   "source": [
    "Extract the first 5 character of each country using ^(startsof the string) and {5}(for 5 characters) and create a new column first_five_letter"
   ]
  },
  {
   "cell_type": "code",
   "execution_count": 53,
   "id": "07d9eb80",
   "metadata": {},
   "outputs": [
    {
     "data": {
      "text/html": [
       "<div>\n",
       "<style scoped>\n",
       "    .dataframe tbody tr th:only-of-type {\n",
       "        vertical-align: middle;\n",
       "    }\n",
       "\n",
       "    .dataframe tbody tr th {\n",
       "        vertical-align: top;\n",
       "    }\n",
       "\n",
       "    .dataframe thead th {\n",
       "        text-align: right;\n",
       "    }\n",
       "</style>\n",
       "<table border=\"1\" class=\"dataframe\">\n",
       "  <thead>\n",
       "    <tr style=\"text-align: right;\">\n",
       "      <th></th>\n",
       "      <th>Country</th>\n",
       "      <th>Region</th>\n",
       "      <th>Happiness Rank</th>\n",
       "      <th>Happiness Score</th>\n",
       "      <th>Standard Error</th>\n",
       "      <th>Economy (GDP per Capita)</th>\n",
       "      <th>Family</th>\n",
       "      <th>Health (Life Expectancy)</th>\n",
       "      <th>Freedom</th>\n",
       "      <th>Trust (Government Corruption)</th>\n",
       "      <th>Generosity</th>\n",
       "      <th>Dystopia Residual</th>\n",
       "      <th>first_five_letter</th>\n",
       "    </tr>\n",
       "  </thead>\n",
       "  <tbody>\n",
       "    <tr>\n",
       "      <th>0</th>\n",
       "      <td>Switzerland</td>\n",
       "      <td>Western Europe</td>\n",
       "      <td>1</td>\n",
       "      <td>7.587</td>\n",
       "      <td>0.03411</td>\n",
       "      <td>1.39651</td>\n",
       "      <td>1.34951</td>\n",
       "      <td>0.94143</td>\n",
       "      <td>0.66557</td>\n",
       "      <td>0.41978</td>\n",
       "      <td>0.29678</td>\n",
       "      <td>2.51738</td>\n",
       "      <td>Switz</td>\n",
       "    </tr>\n",
       "    <tr>\n",
       "      <th>1</th>\n",
       "      <td>Iceland</td>\n",
       "      <td>Western Europe</td>\n",
       "      <td>2</td>\n",
       "      <td>7.561</td>\n",
       "      <td>0.04884</td>\n",
       "      <td>1.30232</td>\n",
       "      <td>1.40223</td>\n",
       "      <td>0.94784</td>\n",
       "      <td>0.62877</td>\n",
       "      <td>0.14145</td>\n",
       "      <td>0.43630</td>\n",
       "      <td>2.70201</td>\n",
       "      <td>Icela</td>\n",
       "    </tr>\n",
       "    <tr>\n",
       "      <th>2</th>\n",
       "      <td>Denmark</td>\n",
       "      <td>Western Europe</td>\n",
       "      <td>3</td>\n",
       "      <td>7.527</td>\n",
       "      <td>0.03328</td>\n",
       "      <td>1.32548</td>\n",
       "      <td>1.36058</td>\n",
       "      <td>0.87464</td>\n",
       "      <td>0.64938</td>\n",
       "      <td>0.48357</td>\n",
       "      <td>0.34139</td>\n",
       "      <td>2.49204</td>\n",
       "      <td>Denma</td>\n",
       "    </tr>\n",
       "    <tr>\n",
       "      <th>3</th>\n",
       "      <td>Norway</td>\n",
       "      <td>Western Europe</td>\n",
       "      <td>4</td>\n",
       "      <td>7.522</td>\n",
       "      <td>0.03880</td>\n",
       "      <td>1.45900</td>\n",
       "      <td>1.33095</td>\n",
       "      <td>0.88521</td>\n",
       "      <td>0.66973</td>\n",
       "      <td>0.36503</td>\n",
       "      <td>0.34699</td>\n",
       "      <td>2.46531</td>\n",
       "      <td>Norwa</td>\n",
       "    </tr>\n",
       "    <tr>\n",
       "      <th>4</th>\n",
       "      <td>Canada</td>\n",
       "      <td>North America</td>\n",
       "      <td>5</td>\n",
       "      <td>7.427</td>\n",
       "      <td>0.03553</td>\n",
       "      <td>1.32629</td>\n",
       "      <td>1.32261</td>\n",
       "      <td>0.90563</td>\n",
       "      <td>0.63297</td>\n",
       "      <td>0.32957</td>\n",
       "      <td>0.45811</td>\n",
       "      <td>2.45176</td>\n",
       "      <td>Canad</td>\n",
       "    </tr>\n",
       "  </tbody>\n",
       "</table>\n",
       "</div>"
      ],
      "text/plain": [
       "       Country          Region  Happiness Rank  Happiness Score  \\\n",
       "0  Switzerland  Western Europe               1            7.587   \n",
       "1      Iceland  Western Europe               2            7.561   \n",
       "2      Denmark  Western Europe               3            7.527   \n",
       "3       Norway  Western Europe               4            7.522   \n",
       "4       Canada   North America               5            7.427   \n",
       "\n",
       "   Standard Error  Economy (GDP per Capita)   Family  \\\n",
       "0         0.03411                   1.39651  1.34951   \n",
       "1         0.04884                   1.30232  1.40223   \n",
       "2         0.03328                   1.32548  1.36058   \n",
       "3         0.03880                   1.45900  1.33095   \n",
       "4         0.03553                   1.32629  1.32261   \n",
       "\n",
       "   Health (Life Expectancy)  Freedom  Trust (Government Corruption)  \\\n",
       "0                   0.94143  0.66557                        0.41978   \n",
       "1                   0.94784  0.62877                        0.14145   \n",
       "2                   0.87464  0.64938                        0.48357   \n",
       "3                   0.88521  0.66973                        0.36503   \n",
       "4                   0.90563  0.63297                        0.32957   \n",
       "\n",
       "   Generosity  Dystopia Residual first_five_letter  \n",
       "0     0.29678            2.51738             Switz  \n",
       "1     0.43630            2.70201             Icela  \n",
       "2     0.34139            2.49204             Denma  \n",
       "3     0.34699            2.46531             Norwa  \n",
       "4     0.45811            2.45176             Canad  "
      ]
     },
     "execution_count": 53,
     "metadata": {},
     "output_type": "execute_result"
    }
   ],
   "source": [
    "import numpy as np\n",
    "\n",
    "data['first_five_letter'] = data['Country'].str.extract(r'(^\\w{5})')\n",
    "data.head()"
   ]
  },
  {
   "cell_type": "code",
   "execution_count": 54,
   "id": "c1097e39",
   "metadata": {},
   "outputs": [
    {
     "data": {
      "text/plain": [
       "Switzerland    1\n",
       "Bangladesh     1\n",
       "Greece         1\n",
       "Lebanon        1\n",
       "Hungary        1\n",
       "              ..\n",
       "Kazakhstan     1\n",
       "Slovenia       1\n",
       "Lithuania      1\n",
       "Nicaragua      1\n",
       "Togo           1\n",
       "Name: Country, Length: 158, dtype: int64"
      ]
     },
     "execution_count": 54,
     "metadata": {},
     "output_type": "execute_result"
    }
   ],
   "source": [
    "data['Country'].value_counts()"
   ]
  },
  {
   "cell_type": "code",
   "execution_count": 55,
   "id": "3efa84b7",
   "metadata": {},
   "outputs": [
    {
     "data": {
      "text/plain": [
       "array(['Switzerland', 'Iceland', 'Denmark', 'Norway', 'Canada', 'Finland',\n",
       "       'Netherlands', 'Sweden', 'New Zealand', 'Australia', 'Israel',\n",
       "       'Costa Rica', 'Austria', 'Mexico', 'United States', 'Brazil',\n",
       "       'Luxembourg', 'Ireland', 'Belgium', 'United Arab Emirates',\n",
       "       'United Kingdom', 'Oman', 'Venezuela', 'Singapore', 'Panama',\n",
       "       'Germany', 'Chile', 'Qatar', 'France', 'Argentina',\n",
       "       'Czech Republic', 'Uruguay', 'Colombia', 'Thailand',\n",
       "       'Saudi Arabia', 'Spain', 'Malta', 'Taiwan', 'Kuwait', 'Suriname',\n",
       "       'Trinidad and Tobago', 'El Salvador', 'Guatemala', 'Uzbekistan',\n",
       "       'Slovakia', 'Japan', 'South Korea', 'Ecuador', 'Bahrain', 'Italy',\n",
       "       'Bolivia', 'Moldova', 'Paraguay', 'Kazakhstan', 'Slovenia',\n",
       "       'Lithuania', 'Nicaragua', 'Peru', 'Belarus', 'Poland', 'Malaysia',\n",
       "       'Croatia', 'Libya', 'Russia', 'Jamaica', 'North Cyprus', 'Cyprus',\n",
       "       'Algeria', 'Kosovo', 'Turkmenistan', 'Mauritius', 'Hong Kong',\n",
       "       'Estonia', 'Indonesia', 'Vietnam', 'Turkey', 'Kyrgyzstan',\n",
       "       'Nigeria', 'Bhutan', 'Azerbaijan', 'Pakistan', 'Jordan',\n",
       "       'Montenegro', 'China', 'Zambia', 'Romania', 'Serbia', 'Portugal',\n",
       "       'Latvia', 'Philippines', 'Somaliland region', 'Morocco',\n",
       "       'Macedonia', 'Mozambique', 'Albania', 'Bosnia and Herzegovina',\n",
       "       'Lesotho', 'Dominican Republic', 'Laos', 'Mongolia', 'Swaziland',\n",
       "       'Greece', 'Lebanon', 'Hungary', 'Honduras', 'Tajikistan',\n",
       "       'Tunisia', 'Palestinian Territories', 'Bangladesh', 'Iran',\n",
       "       'Ukraine', 'Iraq', 'South Africa', 'Ghana', 'Zimbabwe', 'Liberia',\n",
       "       'India', 'Sudan', 'Haiti', 'Congo (Kinshasa)', 'Nepal', 'Ethiopia',\n",
       "       'Sierra Leone', 'Mauritania', 'Kenya', 'Djibouti', 'Armenia',\n",
       "       'Botswana', 'Myanmar', 'Georgia', 'Malawi', 'Sri Lanka',\n",
       "       'Cameroon', 'Bulgaria', 'Egypt', 'Yemen', 'Angola', 'Mali',\n",
       "       'Congo (Brazzaville)', 'Comoros', 'Uganda', 'Senegal', 'Gabon',\n",
       "       'Niger', 'Cambodia', 'Tanzania', 'Madagascar',\n",
       "       'Central African Republic', 'Chad', 'Guinea', 'Ivory Coast',\n",
       "       'Burkina Faso', 'Afghanistan', 'Rwanda', 'Benin', 'Syria',\n",
       "       'Burundi', 'Togo'], dtype=object)"
      ]
     },
     "execution_count": 55,
     "metadata": {},
     "output_type": "execute_result"
    }
   ],
   "source": [
    "data['Country'].unique()"
   ]
  },
  {
   "cell_type": "markdown",
   "id": "614d9a1c",
   "metadata": {},
   "source": [
    "## Pandas Count"
   ]
  },
  {
   "cell_type": "code",
   "execution_count": 56,
   "id": "e97d19f8",
   "metadata": {},
   "outputs": [
    {
     "data": {
      "text/plain": [
       "0    Switzerland\n",
       "7         Sweden\n",
       "dtype: object"
      ]
     },
     "execution_count": 56,
     "metadata": {},
     "output_type": "execute_result"
    }
   ],
   "source": [
    "s = pd.Series(['Switzerland', 'Iceland', 'Denmark', 'Norway', 'Canada', 'Finland',\n",
    "               'Netherlands', 'Sweden', 'New Zealand', 'Australia'])\n",
    "s[s.str.count(r'(^S.*)')==1]"
   ]
  },
  {
   "cell_type": "code",
   "execution_count": 57,
   "id": "20f65c8c",
   "metadata": {},
   "outputs": [
    {
     "data": {
      "text/plain": [
       "0    Switzerland\n",
       "1         Sweden\n",
       "2          Syria\n",
       "3          Sudan\n",
       "4      Swaziland\n",
       "dtype: object"
      ]
     },
     "execution_count": 57,
     "metadata": {},
     "output_type": "execute_result"
    }
   ],
   "source": [
    "s = pd.Series(['Switzerland', 'Sweden', 'Syria', 'Sudan', 'Swaziland', 'spain'])\n",
    "s[s.str.count(r'(^S.*)')==1]"
   ]
  },
  {
   "cell_type": "code",
   "execution_count": 58,
   "id": "9206370f",
   "metadata": {},
   "outputs": [
    {
     "data": {
      "text/plain": [
       "0    Switzerland\n",
       "1         Sweden\n",
       "2          Syria\n",
       "3          Sudan\n",
       "4      Swaziland\n",
       "5          spain\n",
       "dtype: object"
      ]
     },
     "execution_count": 58,
     "metadata": {},
     "output_type": "execute_result"
    }
   ],
   "source": [
    "s = pd.Series(['Switzerland', 'Sweden', 'Syria', 'Sudan', 'Swaziland', 'spain'])\n",
    "s[s.str.count(r'(^S|s.*)')==1]"
   ]
  },
  {
   "cell_type": "markdown",
   "id": "4e26967b",
   "metadata": {},
   "source": [
    "We can use sum() to find the total elements matching the pattern"
   ]
  },
  {
   "cell_type": "code",
   "execution_count": 59,
   "id": "00172f16",
   "metadata": {},
   "outputs": [
    {
     "data": {
      "text/plain": [
       "5"
      ]
     },
     "execution_count": 59,
     "metadata": {},
     "output_type": "execute_result"
    }
   ],
   "source": [
    "s.str.count(r'(^S.*)').sum()"
   ]
  },
  {
   "cell_type": "code",
   "execution_count": 60,
   "id": "b10e3e4b",
   "metadata": {},
   "outputs": [
    {
     "data": {
      "text/html": [
       "<div>\n",
       "<style scoped>\n",
       "    .dataframe tbody tr th:only-of-type {\n",
       "        vertical-align: middle;\n",
       "    }\n",
       "\n",
       "    .dataframe tbody tr th {\n",
       "        vertical-align: top;\n",
       "    }\n",
       "\n",
       "    .dataframe thead th {\n",
       "        text-align: right;\n",
       "    }\n",
       "</style>\n",
       "<table border=\"1\" class=\"dataframe\">\n",
       "  <thead>\n",
       "    <tr style=\"text-align: right;\">\n",
       "      <th></th>\n",
       "      <th>Country</th>\n",
       "      <th>Region</th>\n",
       "      <th>Happiness Rank</th>\n",
       "      <th>Happiness Score</th>\n",
       "      <th>Standard Error</th>\n",
       "      <th>Economy (GDP per Capita)</th>\n",
       "      <th>Family</th>\n",
       "      <th>Health (Life Expectancy)</th>\n",
       "      <th>Freedom</th>\n",
       "      <th>Trust (Government Corruption)</th>\n",
       "      <th>Generosity</th>\n",
       "      <th>Dystopia Residual</th>\n",
       "      <th>first_five_letter</th>\n",
       "    </tr>\n",
       "  </thead>\n",
       "  <tbody>\n",
       "    <tr>\n",
       "      <th>24</th>\n",
       "      <td>Panama</td>\n",
       "      <td>Latin America and Caribbean</td>\n",
       "      <td>25</td>\n",
       "      <td>6.786</td>\n",
       "      <td>0.04910</td>\n",
       "      <td>1.06353</td>\n",
       "      <td>1.19850</td>\n",
       "      <td>0.79661</td>\n",
       "      <td>0.54210</td>\n",
       "      <td>0.09270</td>\n",
       "      <td>0.24434</td>\n",
       "      <td>2.84848</td>\n",
       "      <td>Panam</td>\n",
       "    </tr>\n",
       "    <tr>\n",
       "      <th>52</th>\n",
       "      <td>Paraguay</td>\n",
       "      <td>Latin America and Caribbean</td>\n",
       "      <td>53</td>\n",
       "      <td>5.878</td>\n",
       "      <td>0.04563</td>\n",
       "      <td>0.75985</td>\n",
       "      <td>1.30477</td>\n",
       "      <td>0.66098</td>\n",
       "      <td>0.53899</td>\n",
       "      <td>0.08242</td>\n",
       "      <td>0.34240</td>\n",
       "      <td>2.18896</td>\n",
       "      <td>Parag</td>\n",
       "    </tr>\n",
       "    <tr>\n",
       "      <th>57</th>\n",
       "      <td>Peru</td>\n",
       "      <td>Latin America and Caribbean</td>\n",
       "      <td>58</td>\n",
       "      <td>5.824</td>\n",
       "      <td>0.04615</td>\n",
       "      <td>0.90019</td>\n",
       "      <td>0.97459</td>\n",
       "      <td>0.73017</td>\n",
       "      <td>0.41496</td>\n",
       "      <td>0.05989</td>\n",
       "      <td>0.14982</td>\n",
       "      <td>2.59450</td>\n",
       "      <td>NaN</td>\n",
       "    </tr>\n",
       "    <tr>\n",
       "      <th>59</th>\n",
       "      <td>Poland</td>\n",
       "      <td>Central and Eastern Europe</td>\n",
       "      <td>60</td>\n",
       "      <td>5.791</td>\n",
       "      <td>0.04263</td>\n",
       "      <td>1.12555</td>\n",
       "      <td>1.27948</td>\n",
       "      <td>0.77903</td>\n",
       "      <td>0.53122</td>\n",
       "      <td>0.04212</td>\n",
       "      <td>0.16759</td>\n",
       "      <td>1.86565</td>\n",
       "      <td>Polan</td>\n",
       "    </tr>\n",
       "    <tr>\n",
       "      <th>80</th>\n",
       "      <td>Pakistan</td>\n",
       "      <td>Southern Asia</td>\n",
       "      <td>81</td>\n",
       "      <td>5.194</td>\n",
       "      <td>0.03726</td>\n",
       "      <td>0.59543</td>\n",
       "      <td>0.41411</td>\n",
       "      <td>0.51466</td>\n",
       "      <td>0.12102</td>\n",
       "      <td>0.10464</td>\n",
       "      <td>0.33671</td>\n",
       "      <td>3.10709</td>\n",
       "      <td>Pakis</td>\n",
       "    </tr>\n",
       "    <tr>\n",
       "      <th>87</th>\n",
       "      <td>Portugal</td>\n",
       "      <td>Western Europe</td>\n",
       "      <td>88</td>\n",
       "      <td>5.102</td>\n",
       "      <td>0.04802</td>\n",
       "      <td>1.15991</td>\n",
       "      <td>1.13935</td>\n",
       "      <td>0.87519</td>\n",
       "      <td>0.51469</td>\n",
       "      <td>0.01078</td>\n",
       "      <td>0.13719</td>\n",
       "      <td>1.26462</td>\n",
       "      <td>Portu</td>\n",
       "    </tr>\n",
       "    <tr>\n",
       "      <th>89</th>\n",
       "      <td>Philippines</td>\n",
       "      <td>Southeastern Asia</td>\n",
       "      <td>90</td>\n",
       "      <td>5.073</td>\n",
       "      <td>0.04934</td>\n",
       "      <td>0.70532</td>\n",
       "      <td>1.03516</td>\n",
       "      <td>0.58114</td>\n",
       "      <td>0.62545</td>\n",
       "      <td>0.12279</td>\n",
       "      <td>0.24991</td>\n",
       "      <td>1.75360</td>\n",
       "      <td>Phili</td>\n",
       "    </tr>\n",
       "    <tr>\n",
       "      <th>107</th>\n",
       "      <td>Palestinian Territories</td>\n",
       "      <td>Middle East and Northern Africa</td>\n",
       "      <td>108</td>\n",
       "      <td>4.715</td>\n",
       "      <td>0.04394</td>\n",
       "      <td>0.59867</td>\n",
       "      <td>0.92558</td>\n",
       "      <td>0.66015</td>\n",
       "      <td>0.24499</td>\n",
       "      <td>0.12905</td>\n",
       "      <td>0.11251</td>\n",
       "      <td>2.04384</td>\n",
       "      <td>Pales</td>\n",
       "    </tr>\n",
       "  </tbody>\n",
       "</table>\n",
       "</div>"
      ],
      "text/plain": [
       "                     Country                           Region  Happiness Rank  \\\n",
       "24                    Panama      Latin America and Caribbean              25   \n",
       "52                  Paraguay      Latin America and Caribbean              53   \n",
       "57                      Peru      Latin America and Caribbean              58   \n",
       "59                    Poland       Central and Eastern Europe              60   \n",
       "80                  Pakistan                    Southern Asia              81   \n",
       "87                  Portugal                   Western Europe              88   \n",
       "89               Philippines                Southeastern Asia              90   \n",
       "107  Palestinian Territories  Middle East and Northern Africa             108   \n",
       "\n",
       "     Happiness Score  Standard Error  Economy (GDP per Capita)   Family  \\\n",
       "24             6.786         0.04910                   1.06353  1.19850   \n",
       "52             5.878         0.04563                   0.75985  1.30477   \n",
       "57             5.824         0.04615                   0.90019  0.97459   \n",
       "59             5.791         0.04263                   1.12555  1.27948   \n",
       "80             5.194         0.03726                   0.59543  0.41411   \n",
       "87             5.102         0.04802                   1.15991  1.13935   \n",
       "89             5.073         0.04934                   0.70532  1.03516   \n",
       "107            4.715         0.04394                   0.59867  0.92558   \n",
       "\n",
       "     Health (Life Expectancy)  Freedom  Trust (Government Corruption)  \\\n",
       "24                    0.79661  0.54210                        0.09270   \n",
       "52                    0.66098  0.53899                        0.08242   \n",
       "57                    0.73017  0.41496                        0.05989   \n",
       "59                    0.77903  0.53122                        0.04212   \n",
       "80                    0.51466  0.12102                        0.10464   \n",
       "87                    0.87519  0.51469                        0.01078   \n",
       "89                    0.58114  0.62545                        0.12279   \n",
       "107                   0.66015  0.24499                        0.12905   \n",
       "\n",
       "     Generosity  Dystopia Residual first_five_letter  \n",
       "24      0.24434            2.84848             Panam  \n",
       "52      0.34240            2.18896             Parag  \n",
       "57      0.14982            2.59450               NaN  \n",
       "59      0.16759            1.86565             Polan  \n",
       "80      0.33671            3.10709             Pakis  \n",
       "87      0.13719            1.26462             Portu  \n",
       "89      0.24991            1.75360             Phili  \n",
       "107     0.11251            2.04384             Pales  "
      ]
     },
     "execution_count": 60,
     "metadata": {},
     "output_type": "execute_result"
    }
   ],
   "source": [
    "data[data['Country'].str.count('^[p|P].*')>0]"
   ]
  },
  {
   "cell_type": "markdown",
   "id": "af96076b",
   "metadata": {},
   "source": [
    "In our original datframe we are finding all the country that starts with character \"P\" and \"p\" (both lower and upper case). Basically, we are filtering all the rows which return count > 0."
   ]
  },
  {
   "cell_type": "markdown",
   "id": "859a6e4a",
   "metadata": {},
   "source": [
    "## Pandas Match"
   ]
  },
  {
   "cell_type": "markdown",
   "id": "8e6eb9cf",
   "metadata": {},
   "source": [
    "match() is equivalent to python's re.match() and returns a boolean value."
   ]
  },
  {
   "cell_type": "code",
   "execution_count": 61,
   "id": "2980f8fb",
   "metadata": {},
   "outputs": [
    {
     "data": {
      "text/plain": [
       "4      Peru\n",
       "6    Poland\n",
       "dtype: object"
      ]
     },
     "execution_count": 61,
     "metadata": {},
     "output_type": "execute_result"
    }
   ],
   "source": [
    "S= pd.Series(['Kazakhstan', 'Slovenia', 'Lithuania', 'Nicaragua', 'Peru', 'Belarus', 'Poland'])\n",
    "S[S.str.match(r'(^P.*)')==True]"
   ]
  },
  {
   "cell_type": "markdown",
   "id": "defc330d",
   "metadata": {},
   "source": [
    "Here we are finding all the countries in pandas series starting with character \"P\" (Upper case)."
   ]
  },
  {
   "cell_type": "code",
   "execution_count": 62,
   "id": "fd490bd0",
   "metadata": {},
   "outputs": [
    {
     "data": {
      "text/html": [
       "<div>\n",
       "<style scoped>\n",
       "    .dataframe tbody tr th:only-of-type {\n",
       "        vertical-align: middle;\n",
       "    }\n",
       "\n",
       "    .dataframe tbody tr th {\n",
       "        vertical-align: top;\n",
       "    }\n",
       "\n",
       "    .dataframe thead th {\n",
       "        text-align: right;\n",
       "    }\n",
       "</style>\n",
       "<table border=\"1\" class=\"dataframe\">\n",
       "  <thead>\n",
       "    <tr style=\"text-align: right;\">\n",
       "      <th></th>\n",
       "      <th>Country</th>\n",
       "      <th>Region</th>\n",
       "      <th>Happiness Rank</th>\n",
       "      <th>Happiness Score</th>\n",
       "      <th>Standard Error</th>\n",
       "      <th>Economy (GDP per Capita)</th>\n",
       "      <th>Family</th>\n",
       "      <th>Health (Life Expectancy)</th>\n",
       "      <th>Freedom</th>\n",
       "      <th>Trust (Government Corruption)</th>\n",
       "      <th>Generosity</th>\n",
       "      <th>Dystopia Residual</th>\n",
       "      <th>first_five_letter</th>\n",
       "    </tr>\n",
       "  </thead>\n",
       "  <tbody>\n",
       "    <tr>\n",
       "      <th>24</th>\n",
       "      <td>Panama</td>\n",
       "      <td>Latin America and Caribbean</td>\n",
       "      <td>25</td>\n",
       "      <td>6.786</td>\n",
       "      <td>0.04910</td>\n",
       "      <td>1.06353</td>\n",
       "      <td>1.19850</td>\n",
       "      <td>0.79661</td>\n",
       "      <td>0.54210</td>\n",
       "      <td>0.09270</td>\n",
       "      <td>0.24434</td>\n",
       "      <td>2.84848</td>\n",
       "      <td>Panam</td>\n",
       "    </tr>\n",
       "    <tr>\n",
       "      <th>52</th>\n",
       "      <td>Paraguay</td>\n",
       "      <td>Latin America and Caribbean</td>\n",
       "      <td>53</td>\n",
       "      <td>5.878</td>\n",
       "      <td>0.04563</td>\n",
       "      <td>0.75985</td>\n",
       "      <td>1.30477</td>\n",
       "      <td>0.66098</td>\n",
       "      <td>0.53899</td>\n",
       "      <td>0.08242</td>\n",
       "      <td>0.34240</td>\n",
       "      <td>2.18896</td>\n",
       "      <td>Parag</td>\n",
       "    </tr>\n",
       "    <tr>\n",
       "      <th>57</th>\n",
       "      <td>Peru</td>\n",
       "      <td>Latin America and Caribbean</td>\n",
       "      <td>58</td>\n",
       "      <td>5.824</td>\n",
       "      <td>0.04615</td>\n",
       "      <td>0.90019</td>\n",
       "      <td>0.97459</td>\n",
       "      <td>0.73017</td>\n",
       "      <td>0.41496</td>\n",
       "      <td>0.05989</td>\n",
       "      <td>0.14982</td>\n",
       "      <td>2.59450</td>\n",
       "      <td>NaN</td>\n",
       "    </tr>\n",
       "    <tr>\n",
       "      <th>59</th>\n",
       "      <td>Poland</td>\n",
       "      <td>Central and Eastern Europe</td>\n",
       "      <td>60</td>\n",
       "      <td>5.791</td>\n",
       "      <td>0.04263</td>\n",
       "      <td>1.12555</td>\n",
       "      <td>1.27948</td>\n",
       "      <td>0.77903</td>\n",
       "      <td>0.53122</td>\n",
       "      <td>0.04212</td>\n",
       "      <td>0.16759</td>\n",
       "      <td>1.86565</td>\n",
       "      <td>Polan</td>\n",
       "    </tr>\n",
       "    <tr>\n",
       "      <th>80</th>\n",
       "      <td>Pakistan</td>\n",
       "      <td>Southern Asia</td>\n",
       "      <td>81</td>\n",
       "      <td>5.194</td>\n",
       "      <td>0.03726</td>\n",
       "      <td>0.59543</td>\n",
       "      <td>0.41411</td>\n",
       "      <td>0.51466</td>\n",
       "      <td>0.12102</td>\n",
       "      <td>0.10464</td>\n",
       "      <td>0.33671</td>\n",
       "      <td>3.10709</td>\n",
       "      <td>Pakis</td>\n",
       "    </tr>\n",
       "    <tr>\n",
       "      <th>87</th>\n",
       "      <td>Portugal</td>\n",
       "      <td>Western Europe</td>\n",
       "      <td>88</td>\n",
       "      <td>5.102</td>\n",
       "      <td>0.04802</td>\n",
       "      <td>1.15991</td>\n",
       "      <td>1.13935</td>\n",
       "      <td>0.87519</td>\n",
       "      <td>0.51469</td>\n",
       "      <td>0.01078</td>\n",
       "      <td>0.13719</td>\n",
       "      <td>1.26462</td>\n",
       "      <td>Portu</td>\n",
       "    </tr>\n",
       "    <tr>\n",
       "      <th>89</th>\n",
       "      <td>Philippines</td>\n",
       "      <td>Southeastern Asia</td>\n",
       "      <td>90</td>\n",
       "      <td>5.073</td>\n",
       "      <td>0.04934</td>\n",
       "      <td>0.70532</td>\n",
       "      <td>1.03516</td>\n",
       "      <td>0.58114</td>\n",
       "      <td>0.62545</td>\n",
       "      <td>0.12279</td>\n",
       "      <td>0.24991</td>\n",
       "      <td>1.75360</td>\n",
       "      <td>Phili</td>\n",
       "    </tr>\n",
       "    <tr>\n",
       "      <th>107</th>\n",
       "      <td>Palestinian Territories</td>\n",
       "      <td>Middle East and Northern Africa</td>\n",
       "      <td>108</td>\n",
       "      <td>4.715</td>\n",
       "      <td>0.04394</td>\n",
       "      <td>0.59867</td>\n",
       "      <td>0.92558</td>\n",
       "      <td>0.66015</td>\n",
       "      <td>0.24499</td>\n",
       "      <td>0.12905</td>\n",
       "      <td>0.11251</td>\n",
       "      <td>2.04384</td>\n",
       "      <td>Pales</td>\n",
       "    </tr>\n",
       "  </tbody>\n",
       "</table>\n",
       "</div>"
      ],
      "text/plain": [
       "                     Country                           Region  Happiness Rank  \\\n",
       "24                    Panama      Latin America and Caribbean              25   \n",
       "52                  Paraguay      Latin America and Caribbean              53   \n",
       "57                      Peru      Latin America and Caribbean              58   \n",
       "59                    Poland       Central and Eastern Europe              60   \n",
       "80                  Pakistan                    Southern Asia              81   \n",
       "87                  Portugal                   Western Europe              88   \n",
       "89               Philippines                Southeastern Asia              90   \n",
       "107  Palestinian Territories  Middle East and Northern Africa             108   \n",
       "\n",
       "     Happiness Score  Standard Error  Economy (GDP per Capita)   Family  \\\n",
       "24             6.786         0.04910                   1.06353  1.19850   \n",
       "52             5.878         0.04563                   0.75985  1.30477   \n",
       "57             5.824         0.04615                   0.90019  0.97459   \n",
       "59             5.791         0.04263                   1.12555  1.27948   \n",
       "80             5.194         0.03726                   0.59543  0.41411   \n",
       "87             5.102         0.04802                   1.15991  1.13935   \n",
       "89             5.073         0.04934                   0.70532  1.03516   \n",
       "107            4.715         0.04394                   0.59867  0.92558   \n",
       "\n",
       "     Health (Life Expectancy)  Freedom  Trust (Government Corruption)  \\\n",
       "24                    0.79661  0.54210                        0.09270   \n",
       "52                    0.66098  0.53899                        0.08242   \n",
       "57                    0.73017  0.41496                        0.05989   \n",
       "59                    0.77903  0.53122                        0.04212   \n",
       "80                    0.51466  0.12102                        0.10464   \n",
       "87                    0.87519  0.51469                        0.01078   \n",
       "89                    0.58114  0.62545                        0.12279   \n",
       "107                   0.66015  0.24499                        0.12905   \n",
       "\n",
       "     Generosity  Dystopia Residual first_five_letter  \n",
       "24      0.24434            2.84848             Panam  \n",
       "52      0.34240            2.18896             Parag  \n",
       "57      0.14982            2.59450               NaN  \n",
       "59      0.16759            1.86565             Polan  \n",
       "80      0.33671            3.10709             Pakis  \n",
       "87      0.13719            1.26462             Portu  \n",
       "89      0.24991            1.75360             Phili  \n",
       "107     0.11251            2.04384             Pales  "
      ]
     },
     "execution_count": 62,
     "metadata": {},
     "output_type": "execute_result"
    }
   ],
   "source": [
    "data[data['Country'].str.match(r'(^P.*)')==True]"
   ]
  },
  {
   "cell_type": "markdown",
   "id": "7de47094",
   "metadata": {},
   "source": [
    "Running the same match() method and filtering by boolean valu True we get all the Countries starting with \"P\" in the original dataframe and here we are doing the same thing."
   ]
  },
  {
   "cell_type": "markdown",
   "id": "754da15e",
   "metadata": {},
   "source": [
    "## Pandas Contain"
   ]
  },
  {
   "cell_type": "code",
   "execution_count": 63,
   "id": "1a5594f6",
   "metadata": {},
   "outputs": [
    {
     "data": {
      "text/plain": [
       "0     True\n",
       "1    False\n",
       "2    False\n",
       "3     True\n",
       "4    False\n",
       "5     True\n",
       "dtype: bool"
      ]
     },
     "execution_count": 63,
     "metadata": {},
     "output_type": "execute_result"
    }
   ],
   "source": [
    "S = pd.Series(['Finland','Kuwait', 'Suriname', 'France', 'Argentina','Florida'])\n",
    "S.str.contains('^F.*')"
   ]
  },
  {
   "cell_type": "code",
   "execution_count": 64,
   "id": "07b2ba8b",
   "metadata": {},
   "outputs": [
    {
     "data": {
      "text/plain": [
       "0     True\n",
       "1    False\n",
       "2    False\n",
       "3     True\n",
       "4    False\n",
       "5     True\n",
       "dtype: bool"
      ]
     },
     "execution_count": 64,
     "metadata": {},
     "output_type": "execute_result"
    }
   ],
   "source": [
    "S = pd.Series(['Finland','Kuwait', 'Suriname', 'France', 'Argentina','florida'])\n",
    "S.str.contains('^F|f.*')"
   ]
  },
  {
   "cell_type": "markdown",
   "id": "7c1800fa",
   "metadata": {},
   "source": [
    "we are creting a new list of countries which starts with character 'F' and 'f' from the series. The list comprehension checks for all the returned value > 0 and creates a list matching the patterns."
   ]
  },
  {
   "cell_type": "markdown",
   "id": "5315d8b8",
   "metadata": {},
   "source": [
    "## Pandas Split"
   ]
  },
  {
   "cell_type": "markdown",
   "id": "aeb4bd0a",
   "metadata": {},
   "source": [
    "This sis equivalent tp str.split() and accept regex, if no regex passed then the default is \\s (for whitespace)."
   ]
  },
  {
   "cell_type": "code",
   "execution_count": 65,
   "id": "8a04e7ba",
   "metadata": {},
   "outputs": [
    {
     "data": {
      "text/html": [
       "<div>\n",
       "<style scoped>\n",
       "    .dataframe tbody tr th:only-of-type {\n",
       "        vertical-align: middle;\n",
       "    }\n",
       "\n",
       "    .dataframe tbody tr th {\n",
       "        vertical-align: top;\n",
       "    }\n",
       "\n",
       "    .dataframe thead th {\n",
       "        text-align: right;\n",
       "    }\n",
       "</style>\n",
       "<table border=\"1\" class=\"dataframe\">\n",
       "  <thead>\n",
       "    <tr style=\"text-align: right;\">\n",
       "      <th></th>\n",
       "      <th>0</th>\n",
       "      <th>1</th>\n",
       "      <th>2</th>\n",
       "    </tr>\n",
       "  </thead>\n",
       "  <tbody>\n",
       "    <tr>\n",
       "      <th>0</th>\n",
       "      <td>TheStatueofLiberty</td>\n",
       "      <td>built-on</td>\n",
       "      <td>28-Oct-1886</td>\n",
       "    </tr>\n",
       "  </tbody>\n",
       "</table>\n",
       "</div>"
      ],
      "text/plain": [
       "                    0         1            2\n",
       "0  TheStatueofLiberty  built-on  28-Oct-1886"
      ]
     },
     "execution_count": 65,
     "metadata": {},
     "output_type": "execute_result"
    }
   ],
   "source": [
    "s =pd.Series([\"TheStatueofLiberty built-on 28-Oct-1886\"])\n",
    "s.str.split(r'\\s', n=-1, expand = True)"
   ]
  },
  {
   "cell_type": "markdown",
   "id": "7ca1186e",
   "metadata": {},
   "source": [
    "Here we are splitting the text on white space and expands set as True splits that into 3 different columns"
   ]
  },
  {
   "cell_type": "markdown",
   "id": "f746840d",
   "metadata": {},
   "source": [
    "## Pandas rsplit"
   ]
  },
  {
   "cell_type": "markdown",
   "id": "fac4ad55",
   "metadata": {},
   "source": [
    "It is equivalent to str.rsplit() and the only difference with rsplit() functionis that it splits the string from the end."
   ]
  }
 ],
 "metadata": {
  "kernelspec": {
   "display_name": "Python 3 (ipykernel)",
   "language": "python",
   "name": "python3"
  },
  "language_info": {
   "codemirror_mode": {
    "name": "ipython",
    "version": 3
   },
   "file_extension": ".py",
   "mimetype": "text/x-python",
   "name": "python",
   "nbconvert_exporter": "python",
   "pygments_lexer": "ipython3",
   "version": "3.9.13"
  }
 },
 "nbformat": 4,
 "nbformat_minor": 5
}
