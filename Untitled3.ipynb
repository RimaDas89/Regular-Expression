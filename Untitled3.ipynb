{
 "cells": [
  {
   "cell_type": "code",
   "execution_count": 2,
   "id": "b468c89a",
   "metadata": {},
   "outputs": [],
   "source": [
    "import re"
   ]
  },
  {
   "cell_type": "markdown",
   "id": "b5c5f236",
   "metadata": {},
   "source": [
    "### Question 1- Write a Python program to check that a string contains only a certain set of characters (in thiscase a-z, A-Z and 0-9)."
   ]
  },
  {
   "cell_type": "code",
   "execution_count": 3,
   "id": "805e42ef",
   "metadata": {},
   "outputs": [
    {
     "name": "stdout",
     "output_type": "stream",
     "text": [
      "True\n",
      "False\n"
     ]
    }
   ],
   "source": [
    "# Solution\n",
    "def specific_char(string):\n",
    " pattern = re.compile(r'[^a-zA-Z0-9.]')\n",
    " string = pattern.search(string)\n",
    " return not bool(string)\n",
    "print(specific_char(\"ABCDEFabcdef123450\"))\n",
    "print(specific_char(\"*&%@#!}{\"))"
   ]
  },
  {
   "cell_type": "markdown",
   "id": "4ccf58c5",
   "metadata": {},
   "source": [
    "In pattern the `caret(^)` is used only to match the pattern at the beginning of the string which starts with either a-z or a-z or 0-9 but not the new line character."
   ]
  },
  {
   "cell_type": "markdown",
   "id": "0e4415bf",
   "metadata": {},
   "source": [
    "### Question 2- Create a function in python that matches a string that has an a followed by zero or more b's"
   ]
  },
  {
   "cell_type": "code",
   "execution_count": 6,
   "id": "e3d961cc",
   "metadata": {},
   "outputs": [
    {
     "name": "stdout",
     "output_type": "stream",
     "text": [
      "Found a match!\n",
      "Found a match!\n",
      "Found a match!\n"
     ]
    }
   ],
   "source": [
    "# Solution\n",
    "def text_match(text):\n",
    " patterns = 'ab*'\n",
    " if re.search(patterns, text):\n",
    "        return 'Found a match!'\n",
    " else:\n",
    "    return('Not matched!')\n",
    "\n",
    "print(text_match(\"data\"))\n",
    "print(text_match(\"abacus\"))\n",
    "print(text_match(\"abbc\"))"
   ]
  },
  {
   "cell_type": "markdown",
   "id": "89358176",
   "metadata": {},
   "source": [
    "In pattern the `asterisk(*)` is used only to match zero or more occurence of b."
   ]
  },
  {
   "cell_type": "markdown",
   "id": "39e5f455",
   "metadata": {},
   "source": [
    "### Question 3- Create a function in python that matches a string that has an a followed by one or more b's."
   ]
  },
  {
   "cell_type": "code",
   "execution_count": 7,
   "id": "2b185402",
   "metadata": {},
   "outputs": [
    {
     "name": "stdout",
     "output_type": "stream",
     "text": [
      "Not matched!\n",
      "Found a match!\n"
     ]
    }
   ],
   "source": [
    "# Solution\n",
    "def text_match(text):\n",
    " patterns = 'ab+'\n",
    " if re.search(patterns, text):\n",
    "        return 'Found a match!'\n",
    " else:\n",
    "    return('Not matched!')\n",
    "\n",
    "print(text_match(\"a\"))\n",
    "print(text_match(\"abc\"))"
   ]
  },
  {
   "cell_type": "markdown",
   "id": "f71b2f06",
   "metadata": {},
   "source": [
    "In pattern the `plus(+)` is used only to match one or more occurence of b."
   ]
  },
  {
   "cell_type": "markdown",
   "id": "6dcb67f6",
   "metadata": {},
   "source": [
    "### Question 4- Create a function in Python and use RegEx that matches a string that has an a followed by zero or one b."
   ]
  },
  {
   "cell_type": "code",
   "execution_count": 8,
   "id": "1980e3b2",
   "metadata": {},
   "outputs": [
    {
     "name": "stdout",
     "output_type": "stream",
     "text": [
      "Found a match!\n",
      "Found a match!\n",
      "Found a match!\n",
      "Found a match!\n",
      "Found a match!\n"
     ]
    }
   ],
   "source": [
    "def text_match(text):\n",
    " patterns = 'ab?.'\n",
    " if re.search(patterns, text):\n",
    "        return 'Found a match!'\n",
    " else:\n",
    "    return('Not matched!')\n",
    "\n",
    "print(text_match(\"ab\"))\n",
    "print(text_match(\"abc\"))\n",
    "print(text_match(\"abbc\"))\n",
    "print(text_match(\"aabbc\"))\n",
    "print(text_match(\"aabbc\"))"
   ]
  },
  {
   "cell_type": "markdown",
   "id": "14708cf9",
   "metadata": {},
   "source": [
    "In pattern the `Question mark(?)` is used only to match zero or one occurence and dot is used to match any character except\n",
    "a newline character after b."
   ]
  },
  {
   "cell_type": "markdown",
   "id": "e920c76b",
   "metadata": {},
   "source": [
    "### Question 5- Write a Python program that matches a string that has an a followed by three 'b'"
   ]
  },
  {
   "cell_type": "code",
   "execution_count": 9,
   "id": "7b0a7275",
   "metadata": {},
   "outputs": [
    {
     "name": "stdout",
     "output_type": "stream",
     "text": [
      "['abbb']\n",
      "Found a match!\n",
      "\n",
      "['abbb']\n",
      "Found a match!\n",
      "\n",
      "[]\n",
      "Not matched!\n",
      "\n"
     ]
    }
   ],
   "source": [
    "def text_match(text):\n",
    "    patterns = 'ab{3}'\n",
    "    x= re.findall(patterns, text)\n",
    "    if x:\n",
    "        print(x)\n",
    "        return 'Found a match!\\n'\n",
    "    else:\n",
    "        print(x)\n",
    "        return('Not matched!\\n')\n",
    "    \n",
    "print(text_match(\"Hello!, This is abbb\"))\n",
    "print(text_match(\"Hello!, This is abbbbbc\"))\n",
    "print(text_match(\"Hello!, This is abbc\"))"
   ]
  },
  {
   "cell_type": "markdown",
   "id": "9c821e39",
   "metadata": {},
   "source": [
    "In pattern the `{3}` is used only to match a string that has an a followed by three 'b'. "
   ]
  },
  {
   "cell_type": "markdown",
   "id": "7c32e6cc",
   "metadata": {},
   "source": [
    "### Question 6- Write a regular expression in Python to split a string into uppercase letters.\n",
    "\n",
    "* Sample text: “ImportanceOfRegularExpressionsInPython”\n",
    "* Output: [‘Importance’, ‘Of’, ‘Regular’, ‘Expression’, ‘In’, ‘Python’]"
   ]
  },
  {
   "cell_type": "code",
   "execution_count": 10,
   "id": "b6f8d0fb",
   "metadata": {},
   "outputs": [
    {
     "name": "stdout",
     "output_type": "stream",
     "text": [
      "['Importance', 'Of', 'Regular', 'Expressions', 'In', 'Python']\n"
     ]
    }
   ],
   "source": [
    "text= \"ImportanceOfRegularExpressionsInPython\"\n",
    "upper_case = [s for s in re.split(\"([A-Z][^A-Z]*)\", text) if s]\n",
    "print(upper_case)"
   ]
  },
  {
   "cell_type": "code",
   "execution_count": 11,
   "id": "cebd2aab",
   "metadata": {},
   "outputs": [
    {
     "name": "stdout",
     "output_type": "stream",
     "text": [
      "['Importance', 'Of', 'Regular', 'Expressions', 'In', 'Python']\n"
     ]
    }
   ],
   "source": [
    "#Solution 2\n",
    "text= \"ImportanceOfRegularExpressionsInPython\"\n",
    "upper_case = [s for s in re.split(\"([A-Z][^A-Z]*)\", text) if s]\n",
    "print(upper_case)"
   ]
  },
  {
   "cell_type": "markdown",
   "id": "0890565b",
   "metadata": {},
   "source": [
    "### Question 7- Write a Python program that matches a string that has an a followed by two to three 'b'."
   ]
  },
  {
   "cell_type": "code",
   "execution_count": 12,
   "id": "6acda3de",
   "metadata": {},
   "outputs": [
    {
     "name": "stdout",
     "output_type": "stream",
     "text": [
      "Not matched!\n",
      "['abbb', 'abb']\n",
      "Found a match!\n",
      "\n"
     ]
    }
   ],
   "source": [
    "def text_match(text):\n",
    "    patterns = 'ab{2,3}'\n",
    "    x= re.findall(patterns, text)\n",
    "    if x:\n",
    "        print(x)\n",
    "        return 'Found a match!\\n'\n",
    "    else:\n",
    "        return('Not matched!')\n",
    "    \n",
    "print(text_match(\"ab\"))\n",
    "print(text_match(\"aabbbbbc abb\"))"
   ]
  },
  {
   "cell_type": "markdown",
   "id": "99598b9f",
   "metadata": {},
   "source": [
    "### Question 8- Write a Python program to find sequences of lowercase letters joined with a underscore."
   ]
  },
  {
   "cell_type": "code",
   "execution_count": 13,
   "id": "345ab46d",
   "metadata": {},
   "outputs": [
    {
     "name": "stdout",
     "output_type": "stream",
     "text": [
      "Found a match!\n",
      "Not matched!\n",
      "Not matched!\n"
     ]
    }
   ],
   "source": [
    "def text_match(text):\n",
    "    patterns ='^[a-z]+_[a-z]+'\n",
    "    if re.search(patterns, text):\n",
    "        return 'Found a match!'\n",
    "    else:\n",
    "        return('Not matched!')\n",
    "    \n",
    "print(text_match(\"data_scientist\"))\n",
    "print(text_match(\"Data_scientist\"))\n",
    "print(text_match(\"data_Scientist\"))"
   ]
  },
  {
   "cell_type": "code",
   "execution_count": 14,
   "id": "bdee5bce",
   "metadata": {},
   "outputs": [
    {
     "name": "stdout",
     "output_type": "stream",
     "text": [
      "['data_scientist']\n",
      "Found a match! \n",
      "\n",
      "Not matched! \n",
      "\n",
      "Not matched! \n",
      "\n"
     ]
    }
   ],
   "source": [
    "def text_match(text):\n",
    "    patterns ='^[a-z]+_[a-z]+'\n",
    "    x=re.findall(patterns, text)\n",
    "    if x:\n",
    "        print(x)\n",
    "        return 'Found a match! \\n'\n",
    "    else:\n",
    "        return('Not matched! \\n')\n",
    "    \n",
    "print(text_match(\"data_scientist\"))\n",
    "print(text_match(\"Data_scientist\"))\n",
    "print(text_match(\"data_Scientist\"))"
   ]
  },
  {
   "cell_type": "markdown",
   "id": "8dff87e8",
   "metadata": {},
   "source": [
    "### Question 9- Write a Python program that matches a string that has an 'a' followed by anything, ending in 'b'."
   ]
  },
  {
   "cell_type": "code",
   "execution_count": 15,
   "id": "241c73e1",
   "metadata": {},
   "outputs": [
    {
     "name": "stdout",
     "output_type": "stream",
     "text": [
      "['axyzab']\n",
      "Found a match!\n",
      "\n",
      "Not matched!\n",
      "\n",
      "['accddbbjjjb']\n",
      "Found a match!\n",
      "\n"
     ]
    }
   ],
   "source": [
    "def text_match(text):\n",
    "    patterns = 'a.*b$'\n",
    "    x=re.findall(patterns, text)\n",
    "    if x:\n",
    "        print(x)\n",
    "        return 'Found a match!\\n'\n",
    "    else:\n",
    "        return('Not matched!\\n')\n",
    "    \n",
    "print(text_match(\"This is axyzab\"))\n",
    "print(text_match(\"aabAbbbc\"))\n",
    "print(text_match(\"accddbbjjjb\"))"
   ]
  },
  {
   "cell_type": "code",
   "execution_count": 16,
   "id": "9b322ebf",
   "metadata": {},
   "outputs": [
    {
     "name": "stdout",
     "output_type": "stream",
     "text": [
      "<re.Match object; span=(8, 15), match='aabbbdb'>\n",
      "aabbbdb\n",
      "Found a match!\n",
      "\n",
      "Not matched!\n",
      "\n",
      "<re.Match object; span=(0, 11), match='accddbbjjjb'>\n",
      "accddbbjjjb\n",
      "Found a match!\n",
      "\n"
     ]
    }
   ],
   "source": [
    "def text_match(text):\n",
    "    patterns = 'a\\w*b$'\n",
    "    x=re.search(patterns, text)\n",
    "    if x:\n",
    "        print(x)\n",
    "        print(x.group())\n",
    "        return 'Found a match!\\n'\n",
    "    else:\n",
    "        return('Not matched!\\n')\n",
    "    \n",
    "print(text_match(\"This is aabbbdb\"))\n",
    "print(text_match(\"aabAbbbc\"))\n",
    "print(text_match(\"accddbbjjjb\"))"
   ]
  },
  {
   "cell_type": "markdown",
   "id": "14b5427b",
   "metadata": {},
   "source": [
    "### Question 10- Write a Python program that matches a word at the beginning of a string."
   ]
  },
  {
   "cell_type": "code",
   "execution_count": 17,
   "id": "6de5476c",
   "metadata": {},
   "outputs": [
    {
     "name": "stdout",
     "output_type": "stream",
     "text": [
      "Found a match!\n",
      "Not matched!\n",
      "Not matched!\n"
     ]
    }
   ],
   "source": [
    "def text_match(text):\n",
    "    patterns = '^\\w+'\n",
    "    if re.search(patterns, text):\n",
    "        return 'Found a match!'\n",
    "    else:\n",
    "        return('Not matched!')\n",
    "    \n",
    "print(text_match(\"The quick brown fox jumps over the lazy dog.\"))\n",
    "print(text_match(\" The quick brown fox jumps over the lazy dog.\"))\n",
    "print(text_match(\"@The quick brown fox jumps over the lazy dog.\"))"
   ]
  },
  {
   "cell_type": "code",
   "execution_count": 18,
   "id": "0a9fbb98",
   "metadata": {},
   "outputs": [
    {
     "name": "stdout",
     "output_type": "stream",
     "text": [
      "Not matched!\n",
      "Not matched!\n",
      "Found a match!\n"
     ]
    }
   ],
   "source": [
    "def text_match(text):\n",
    "    patterns = '^@'\n",
    "    if re.search(patterns, text):\n",
    "        return 'Found a match!'\n",
    "    else:\n",
    "        return('Not matched!')\n",
    "    \n",
    "print(text_match(\"The quick brown fox jumps over the lazy dog.\"))\n",
    "print(text_match(\" The quick brown fox jumps over the lazy dog.\"))\n",
    "print(text_match(\"@The quick brown fox jumps over the lazy dog.\"))"
   ]
  },
  {
   "cell_type": "markdown",
   "id": "582bcb2a",
   "metadata": {},
   "source": [
    "### Question 11- Write a Python program to match a string that contains only upper and lowercase letters, numbers, and underscores."
   ]
  },
  {
   "cell_type": "code",
   "execution_count": 19,
   "id": "c7785b5c",
   "metadata": {},
   "outputs": [
    {
     "name": "stdout",
     "output_type": "stream",
     "text": [
      "['xYz_123']\n",
      "Found a match!\n",
      "\n",
      "['Python_', 'Exercises_1']\n",
      "Found a match!\n",
      "\n"
     ]
    }
   ],
   "source": [
    "# Solution\n",
    "def text_match(text):\n",
    "    patterns = '[a-zA-Z]+[0-9_]+'\n",
    "    x=re.findall(patterns, text)\n",
    "    if x:\n",
    "        print(x)\n",
    "        return 'Found a match!\\n'\n",
    "    else:\n",
    "        return('Not matched!')\n",
    "    \n",
    "print(text_match(\"The quick brown fox jumps over the lazy dog named xYz_123.\"))\n",
    "print(text_match(\"Python_Exercises_1\"))"
   ]
  },
  {
   "cell_type": "code",
   "execution_count": 20,
   "id": "1e837073",
   "metadata": {},
   "outputs": [
    {
     "name": "stdout",
     "output_type": "stream",
     "text": [
      "<re.Match object; span=(50, 57), match='XyZ_123'>\n",
      "XyZ_123\n",
      "Found a match!\n",
      "\n",
      "<re.Match object; span=(50, 57), match='123_XyZ'>\n",
      "123_XyZ\n",
      "Found a match!\n",
      "\n",
      "<re.Match object; span=(0, 7), match='Python_'>\n",
      "Python_\n",
      "Found a match!\n",
      "\n"
     ]
    }
   ],
   "source": [
    "def text_match(text):\n",
    "    patterns = '[a-zA-Z]+[0-9_]+|[0-9_]+[a-zA-Z]+'\n",
    "    x=re.search(patterns, text)\n",
    "    if x:\n",
    "        print(x)\n",
    "        print(x.group())\n",
    "        return 'Found a match!\\n'\n",
    "    else:\n",
    "        return('Not matched!')\n",
    "    \n",
    "print(text_match(\"The quick brown fox jumps over the lazy dog named XyZ_123.\"))\n",
    "print(text_match(\"The quick brown fox jumps over the lazy dog named 123_XyZ.\"))\n",
    "print(text_match(\"Python_Exercises_1\"))"
   ]
  },
  {
   "cell_type": "markdown",
   "id": "0003d53c",
   "metadata": {},
   "source": [
    "### Question 12- Write a Python program where a string will start with a specific number."
   ]
  },
  {
   "cell_type": "code",
   "execution_count": 21,
   "id": "b46a7065",
   "metadata": {},
   "outputs": [
    {
     "name": "stdout",
     "output_type": "stream",
     "text": [
      "True\n",
      "False\n"
     ]
    }
   ],
   "source": [
    "# Solution\n",
    "def match_num(string):\n",
    "    text = re.compile(r\"^5\")\n",
    "    if text.match(string):\n",
    "        return True\n",
    "    else:\n",
    "        return False\n",
    "    \n",
    "print(match_num('5-2345861'))\n",
    "print(match_num('6-2345861'))"
   ]
  },
  {
   "cell_type": "code",
   "execution_count": 22,
   "id": "5a9ebeb7",
   "metadata": {},
   "outputs": [
    {
     "name": "stdout",
     "output_type": "stream",
     "text": [
      "True\n",
      "False\n"
     ]
    }
   ],
   "source": [
    "def match_num(string):\n",
    "    x=re.findall(r'\\b5[\\w]*', string)\n",
    "    if x:\n",
    "        return True\n",
    "    else:\n",
    "        return False\n",
    "    \n",
    "print(match_num('5-dataScience123'))\n",
    "print(match_num('6_dataScience123'))\n"
   ]
  },
  {
   "cell_type": "markdown",
   "id": "8ec7157f",
   "metadata": {},
   "source": [
    "`\\b5[\\w]asterisk-` In this pattern \\b5 is used to return a string starting with 5 and [\\w]* is used to return zero\n",
    "or more occurrence of any word characters (characters from a to Z, digits from 0-9, and the underscore _\n",
    "character). So this pattern will return a string starting with 5 followed by any word. "
   ]
  },
  {
   "cell_type": "markdown",
   "id": "b9758515",
   "metadata": {},
   "source": [
    "### Question 13- Write a Python program to remove leading zeros from an IP address"
   ]
  },
  {
   "cell_type": "code",
   "execution_count": 23,
   "id": "5e00694e",
   "metadata": {},
   "outputs": [
    {
     "name": "stdout",
     "output_type": "stream",
     "text": [
      "216.8.94.196\n"
     ]
    }
   ],
   "source": [
    "ip = \"216.08.094.196\"\n",
    "string = re.sub('\\.[0]*', '.', ip)\n",
    "print(string)"
   ]
  },
  {
   "cell_type": "code",
   "execution_count": 24,
   "id": "7273e889",
   "metadata": {},
   "outputs": [
    {
     "name": "stdout",
     "output_type": "stream",
     "text": [
      "216.8.94.196\n"
     ]
    }
   ],
   "source": [
    "ip = \"216.008.094.196\"\n",
    "string = re.sub('\\.[0]*', '.', ip)\n",
    "print(string)"
   ]
  },
  {
   "cell_type": "markdown",
   "id": "8d04799d",
   "metadata": {},
   "source": [
    "`\\.[0]asterisk- In this pattern '\\.'` is used to find the string starting with dot and [0]* is used to find zero or\n",
    "more occurrence of zero. So this code will replace the dot followed by any number of zeroes with a dot."
   ]
  },
  {
   "cell_type": "markdown",
   "id": "9665910e",
   "metadata": {},
   "source": [
    "### Question 14- Write a regular expression in python to match a date string in the form of Month name followed by day number and year stored in a text file.\n",
    "* Sample text : On August 15th 1947 that India was declared independent from British colonialism, and the reins of control were handed over to the leaders of the Country’.\n",
    "* Output- August 15th 1947"
   ]
  },
  {
   "cell_type": "code",
   "execution_count": 26,
   "id": "9be65c96",
   "metadata": {},
   "outputs": [
    {
     "name": "stdout",
     "output_type": "stream",
     "text": [
      "Output: August 15th 1947\n"
     ]
    }
   ],
   "source": [
    "string= \"On August 15th 1947 that India was declared independent from British colonialism\"\n",
    "pattern = \"([a-zA-Z]+) (\\d+[a-z]+) (\\d+)\"\n",
    "matched = re.search(pattern, string)\n",
    "print (\"Output: %s\" % (matched.group()))"
   ]
  },
  {
   "cell_type": "markdown",
   "id": "522fe808",
   "metadata": {},
   "source": [
    "* `([a-zA-Z]+)`- It is used to return the one or more occurence of character alphabetically between a and z, lower case or upper case.\n",
    "* `(\\d+[a-z]+)`- In this pattern \\d+ is used to find one or more occurrences of digits and [a-z]+ is used to find one or more occurrences of lowercase letters between a to z. Therefore this pattern will return the digits\n",
    "followed by lowercase alphabetic characters.\n",
    "* `(\\d+)`- In this pattern \\d+ is used to find one or more occurence of digits.\n",
    "\n",
    "This pattern will return the date string in the form of Month name followed by day number and year\n"
   ]
  },
  {
   "cell_type": "markdown",
   "id": "50c2862d",
   "metadata": {},
   "source": [
    "### Question 15- Write a Python program to search some literals strings in a string.\n",
    "* Sample text : 'The quick brown fox jumps over the lazy dog.'\n",
    "* Searched words : 'fox', 'dog', 'horse'"
   ]
  },
  {
   "cell_type": "code",
   "execution_count": 27,
   "id": "dc5b3fda",
   "metadata": {},
   "outputs": [
    {
     "name": "stdout",
     "output_type": "stream",
     "text": [
      "Searching for \"fox\" in \"The quick brown fox jumps over the lazy dog.\" ->\n",
      "Matched!\n",
      "\n",
      "Searching for \"dog\" in \"The quick brown fox jumps over the lazy dog.\" ->\n",
      "Matched!\n",
      "\n",
      "Searching for \"horse\" in \"The quick brown fox jumps over the lazy dog.\" ->\n",
      "Not Matched!\n"
     ]
    }
   ],
   "source": [
    "patterns = [ 'fox', 'dog', 'horse' ]\n",
    "text = 'The quick brown fox jumps over the lazy dog.'\n",
    "for pattern in patterns:\n",
    "    print('Searching for \"%s\" in \"%s\" ->' % (pattern, text))\n",
    "    if re.search(pattern, text):\n",
    "        print('Matched!\\n')\n",
    "    else:\n",
    "        print('Not Matched!')"
   ]
  },
  {
   "cell_type": "code",
   "execution_count": 29,
   "id": "d580dd9c",
   "metadata": {},
   "outputs": [
    {
     "name": "stdout",
     "output_type": "stream",
     "text": [
      "Searching for \"fox\" in \"The quick brown fox jumps over the lazy dog.\" \n",
      "['fox']\n",
      "Literal Found\n",
      "\n",
      "Searching for \"dog\" in \"The quick brown fox jumps over the lazy dog.\" \n",
      "['dog']\n",
      "Literal Found\n",
      "\n",
      "Searching for \"horse\" in \"The quick brown fox jumps over the lazy dog.\" \n",
      "Literal Not Found\n"
     ]
    }
   ],
   "source": [
    "patterns = [ 'fox', 'dog', 'horse' ]\n",
    "text = 'The quick brown fox jumps over the lazy dog.'\n",
    "for pattern in patterns:\n",
    "    print('Searching for \"%s\" in \"%s\" ' % (pattern, text))\n",
    "    x=re.findall(pattern, text)\n",
    "    if x:\n",
    "        print(x)\n",
    "        print('Literal Found\\n')\n",
    "    else:\n",
    "        print('Literal Not Found')"
   ]
  },
  {
   "cell_type": "code",
   "execution_count": 31,
   "id": "88fae542",
   "metadata": {},
   "outputs": [
    {
     "name": "stdout",
     "output_type": "stream",
     "text": [
      "Searching for \"fox\" in \"The quick brown fox jumps over the lazy dog.\" \n",
      "['fox']\n",
      "Literal Found\n",
      "\n",
      "Searching for \"dog\" in \"The quick brown fox jumps over the lazy dog.\" \n",
      "['dog']\n",
      "Literal Found\n",
      "\n",
      "None\n"
     ]
    }
   ],
   "source": [
    "def literals(text, patterns):\n",
    "    for pattern in patterns:\n",
    "        print('Searching for \"%s\" in \"%s\" ' % (pattern, text))\n",
    "        x=re.findall(pattern, text)\n",
    "        if x:\n",
    "            print(x)\n",
    "            print('Literal Found\\n')\n",
    "        else:\n",
    "            print('Literal Not Found')\n",
    "            \n",
    "print(literals('The quick brown fox jumps over the lazy dog.', patterns = [ 'fox', 'dog']))"
   ]
  },
  {
   "cell_type": "markdown",
   "id": "0475a76b",
   "metadata": {},
   "source": [
    "### Question 16- Write a Python program to search a literals string in a string and also find the location within the original string where the pattern occurs\n",
    "* Sample text : 'The quick brown fox jumps over the lazy dog.'\n",
    "* Searched words : 'fox'"
   ]
  },
  {
   "cell_type": "code",
   "execution_count": 32,
   "id": "f18844c4",
   "metadata": {},
   "outputs": [
    {
     "name": "stdout",
     "output_type": "stream",
     "text": [
      "Found \"fox\" in \"The quick brown fox jumps over the lazy dog.\" from 16 to 19 \n"
     ]
    }
   ],
   "source": [
    "pattern = 'fox'\n",
    "text = 'The quick brown fox jumps over the lazy dog.'\n",
    "match = re.search(pattern, text)\n",
    "s = match.start()\n",
    "e = match.end()\n",
    "print('Found \"%s\" in \"%s\" from %d to %d ' % (match.re.pattern, match.string, s, e))"
   ]
  },
  {
   "cell_type": "markdown",
   "id": "22718148",
   "metadata": {},
   "source": [
    "Here start() returns the index of the start of the substring matched by regex.search() and end() returns the index of the end of the substring matched by regex.search().\n"
   ]
  },
  {
   "cell_type": "markdown",
   "id": "d66b9625",
   "metadata": {},
   "source": [
    "### Question 17- Write a Python program to find the substrings within a string.\n",
    "* Sample text : 'Python exercises, PHP exercises, C# exercises'\n",
    "* Pattern : 'exercises'\n",
    "\n",
    "**Note: There are two instances of exercises in the input string**"
   ]
  },
  {
   "cell_type": "code",
   "execution_count": 33,
   "id": "caf41d09",
   "metadata": {},
   "outputs": [
    {
     "name": "stdout",
     "output_type": "stream",
     "text": [
      "Found \"exercises\"\n",
      "Found \"exercises\"\n",
      "Found \"exercises\"\n"
     ]
    }
   ],
   "source": [
    "text = 'Python exercises, PHP exercises, C# exercises'\n",
    "pattern = 'exercises'\n",
    "for match in re.findall(pattern, text):\n",
    "    print('Found \"%s\"' % match)"
   ]
  },
  {
   "cell_type": "markdown",
   "id": "b6057d73",
   "metadata": {},
   "source": [
    "### Question 18- Write a Python program to find the occurrence and position of the substrings within a string."
   ]
  },
  {
   "cell_type": "code",
   "execution_count": 34,
   "id": "94ec45af",
   "metadata": {},
   "outputs": [
    {
     "name": "stdout",
     "output_type": "stream",
     "text": [
      "Found \"exercises\" at 7:16\n",
      "Found \"exercises\" at 22:31\n",
      "Found \"exercises\" at 36:45\n"
     ]
    }
   ],
   "source": [
    "# Solution\n",
    "text = 'Python exercises, PHP exercises, C# exercises'\n",
    "pattern = 'exercises'\n",
    "for match in re.finditer(pattern, text):\n",
    "    s = match.start()\n",
    "    e = match.end()\n",
    "    print('Found \"%s\" at %d:%d' % (text[s:e], s, e))"
   ]
  },
  {
   "cell_type": "markdown",
   "id": "d3ca3f40",
   "metadata": {},
   "source": [
    "### Question 19- Write a Python program to convert a date of yyyy-mm-dd format to dd-mm-yyyy format."
   ]
  },
  {
   "cell_type": "code",
   "execution_count": 35,
   "id": "6e7a8859",
   "metadata": {},
   "outputs": [
    {
     "name": "stdout",
     "output_type": "stream",
     "text": [
      "Original date in YYY-MM-DD Format:  2026-01-02\n",
      "New date in DD-MM-YYYY Format:  02-01-2026\n"
     ]
    }
   ],
   "source": [
    "# Solution\n",
    "def change_date_format(dt):\n",
    "    return re.sub(r'(\\d{4})-(\\d{1,2})-(\\d{1,2})', '\\\\3-\\\\2-\\\\1', dt)\n",
    "\n",
    "dt1 = \"2026-01-02\"\n",
    "print(\"Original date in YYY-MM-DD Format: \",dt1)\n",
    "print(\"New date in DD-MM-YYYY Format: \",change_date_format(dt1))"
   ]
  },
  {
   "cell_type": "markdown",
   "id": "329d2fef",
   "metadata": {},
   "source": [
    "* `(\\d{4})`- It is a group to find the numbers (0-9) of length between 4 in a given string.\n",
    "* `(\\d{1,2})`-It is a group to find the numbers (0-9) of length between 1 to 2 in a given string.\n",
    "* `(\\d{1,2})`- It is a group to find the numbers (0-9) of length between 1 to 2 in a given string.\n",
    "* `\\\\3`- Used to replace year to day. This means that group reference 3 will be placed at position 1 and similarly\n",
    "* `\\\\2 and \\\\1` will be used."
   ]
  },
  {
   "cell_type": "markdown",
   "id": "0c2a71ba",
   "metadata": {},
   "source": [
    "### Question 20- Write a Python program to find all words starting with 'a' or 'e' in a given string."
   ]
  },
  {
   "cell_type": "code",
   "execution_count": 37,
   "id": "a1cc534a",
   "metadata": {},
   "outputs": [
    {
     "name": "stdout",
     "output_type": "stream",
     "text": [
      "['example', 'eates', 'an', 'ayList', 'apacity', 'elements']\n"
     ]
    }
   ],
   "source": [
    "# Solution\n",
    "text = \"The following example creates an ArrayList with a capacity of 50 elements. Four\"\n",
    "list1 = re.findall(\"[ae]\\w+\", text)\n",
    "print(list1)"
   ]
  },
  {
   "cell_type": "code",
   "execution_count": 38,
   "id": "80080eed",
   "metadata": {},
   "outputs": [
    {
     "name": "stdout",
     "output_type": "stream",
     "text": [
      "example\n",
      "eates\n",
      "an\n",
      "ayList\n",
      "apacity\n",
      "elements\n"
     ]
    }
   ],
   "source": [
    "#solution 2\n",
    "text = \"The following example creates an ArrayList with a capacity of 50 elements. Four\"\n",
    "pattern = \"[ae][\\w]+\"\n",
    "for match in re.finditer(pattern, text):\n",
    "    s = match.start()\n",
    "    e = match.end()\n",
    "    print((text[s:e]))"
   ]
  },
  {
   "cell_type": "code",
   "execution_count": 40,
   "id": "7acc563c",
   "metadata": {},
   "outputs": [
    {
     "name": "stdout",
     "output_type": "stream",
     "text": [
      "example\n",
      "eates\n",
      "an\n",
      "ayList\n",
      "apacity\n",
      "elements\n"
     ]
    }
   ],
   "source": [
    "\n",
    "#Solution 3\n",
    "text = \"The following example creates an ArrayList with a capacity of 50 elements. Four\"\n",
    "pattern = \"[ae][\\w]+\"\n",
    "for match in re.finditer(pattern, text):\n",
    "    print(match.group(0))"
   ]
  },
  {
   "cell_type": "markdown",
   "id": "33a25db1",
   "metadata": {},
   "source": [
    "[ae][\\w]+ - In this pattern [ae] is used to return the one or more occurence of character alphabetically\n",
    "between a and z, lower case or upper case and [\\w]+ is used to return zero or more occurrence of any word\n",
    "characters (characters from a to Z, digits from 0-9, and the underscore _ character). So this pattern will\n",
    "return a string starting with 'a' or 'e' followed by any word."
   ]
  },
  {
   "cell_type": "markdown",
   "id": "2ded20f6",
   "metadata": {},
   "source": [
    "### Question 21- Write a Python program to separate and print the numbers and their position of a given string."
   ]
  },
  {
   "cell_type": "code",
   "execution_count": 43,
   "id": "4114146a",
   "metadata": {},
   "outputs": [
    {
     "name": "stdout",
     "output_type": "stream",
     "text": [
      "50\n",
      "Index position: 62\n",
      "4\n",
      "Index position: 75\n"
     ]
    }
   ],
   "source": [
    "text = \"The following example creates an ArrayList with a capacity of 50 elements. 4 elem\"\n",
    "for m in re.finditer(\"\\d+\", text):\n",
    "    print(m.group(0))\n",
    "    print(\"Index position:\", m.start())"
   ]
  },
  {
   "cell_type": "markdown",
   "id": "86ea38ce",
   "metadata": {},
   "source": [
    "### Question 22- Extract maximum numeric value from a string"
   ]
  },
  {
   "cell_type": "code",
   "execution_count": 44,
   "id": "ed73bc95",
   "metadata": {},
   "outputs": [
    {
     "name": "stdout",
     "output_type": "stream",
     "text": [
      "['947', '896', '926', '524', '734', '950', '642']\n",
      "Maximum Numeric value is  950\n"
     ]
    }
   ],
   "source": [
    "def extractMax(input):\n",
    "    numbers = re.findall('\\d+',input)\n",
    "    print(numbers)\n",
    "    numbers = map(int,numbers) #converting each number from string into integer.\n",
    "    print (\"Maximum Numeric value is \",max(numbers))\n",
    "\n",
    "input = 'My marks in each semester are: 947, 896, 926, 524, 734, 950, 642'\n",
    "extractMax(input)\n"
   ]
  },
  {
   "cell_type": "code",
   "execution_count": 46,
   "id": "b530b2bf",
   "metadata": {},
   "outputs": [
    {
     "name": "stdout",
     "output_type": "stream",
     "text": [
      "['947', '896', '926', '524', '734', '950', '642']\n"
     ]
    },
    {
     "data": {
      "text/plain": [
       "('Maximum Numeric value is', 950)"
      ]
     },
     "execution_count": 46,
     "metadata": {},
     "output_type": "execute_result"
    }
   ],
   "source": [
    "def extractMax(input):\n",
    "    numbers = re.findall('\\d+',input)\n",
    "    print(numbers)\n",
    "    numbers = list(map(int,numbers))\n",
    "    max = numbers[0]            #Assume first number in list is largest and initially we h\n",
    "    for x in numbers:         #Traverse through the list\n",
    "        if x > max:           #compare each number of the list with the value stored in\n",
    "            max = x #Whichever is largest assign that value to variable \"max\".\n",
    "            return \"Maximum Numeric value is\", max #It will return the \"max\" val\n",
    "input = 'My marks in each semester are: 947, 896, 926, 524, 734, 950, 642'\n",
    "extractMax(input)"
   ]
  },
  {
   "cell_type": "markdown",
   "id": "92148013",
   "metadata": {},
   "source": [
    "### Question 23- Regex in Python to put spaces between words starting with capital letters\n"
   ]
  },
  {
   "cell_type": "code",
   "execution_count": 47,
   "id": "ef6518e7",
   "metadata": {},
   "outputs": [
    {
     "name": "stdout",
     "output_type": "stream",
     "text": [
      "Bruce Wayne Is Batman\n"
     ]
    }
   ],
   "source": [
    "def putSpace(input):\n",
    " words = re.findall('[A-Z][a-z]*', input)\n",
    " print(' '.join(words))\n",
    "\n",
    "input = 'BruceWayneIsBatman'\n",
    "putSpace(input)"
   ]
  },
  {
   "cell_type": "markdown",
   "id": "d3f03ce5",
   "metadata": {},
   "source": [
    "In this question we have used `join()` method to join all items in a list into a string, using a space character as\n",
    "separator"
   ]
  },
  {
   "cell_type": "markdown",
   "id": "f316cacb",
   "metadata": {},
   "source": [
    "### Question 24- Python regex to find sequences of one upper case letter followed by lower case letters"
   ]
  },
  {
   "cell_type": "code",
   "execution_count": 48,
   "id": "05f71fe1",
   "metadata": {},
   "outputs": [
    {
     "name": "stdout",
     "output_type": "stream",
     "text": [
      "Yes\n",
      "Yes\n",
      "No\n"
     ]
    }
   ],
   "source": [
    "def match(text):\n",
    "    pattern = '[A-Z][a-z]*$'\n",
    "    if re.search(pattern, text):\n",
    "        return('Yes')\n",
    "    else:\n",
    "        return('No')\n",
    "    \n",
    "print(match(\"Welcome\"))\n",
    "print(match(\"WelcomeHomewelcome Hello Welcome\"))\n",
    "print(match(\"Welcomes you\"))"
   ]
  },
  {
   "cell_type": "markdown",
   "id": "6aa70efe",
   "metadata": {},
   "source": [
    "### Question 25- Remove consecutive duplicate words from Sentence using Regular Expression"
   ]
  },
  {
   "cell_type": "code",
   "execution_count": 49,
   "id": "2df60c15",
   "metadata": {},
   "outputs": [
    {
     "name": "stdout",
     "output_type": "stream",
     "text": [
      "Good bye world\n",
      "Ram went to his home\n",
      "Hello hello world\n",
      "Hello world World\n"
     ]
    }
   ],
   "source": [
    "def removeDuplicateWords(input):\n",
    "    regex = r'\\b(\\w+)(?:\\W+\\1\\b)+'\n",
    "    return re.sub(regex, r'\\1', input)\n",
    "\n",
    "# Test Case: 1\n",
    "str1 = \"Good bye bye world world\"\n",
    "print(removeDuplicateWords(str1))\n",
    "\n",
    "# Test Case: 2\n",
    "str2 = \"Ram went went to to his home\"\n",
    "print(removeDuplicateWords(str2))\n",
    "\n",
    "# Test Case: 3\n",
    "str3 = \"Hello hello world world\"\n",
    "print(removeDuplicateWords(str3))\n",
    "\n",
    "# Test Case: 4\n",
    "str4 = \"Hello Hello world World\"\n",
    "print(removeDuplicateWords(str4))"
   ]
  },
  {
   "cell_type": "markdown",
   "id": "e89ec585",
   "metadata": {},
   "source": [
    "The details of the above regular expression can be understood as:\n",
    "* “\\b” - A word boundary. Boundaries are needed for special cases. For example, in “My thesis is great”,\n",
    "* “is” wont be matched twice.\n",
    "* “\\w+” - A word character: [a-zA-Z_0-9]\n",
    "* “\\W+” - A non-word character: [^\\w]\n",
    "* “\\1” - Matches whatever was matched in the 1st group of parentheses, which in this case is the (\\w+)\n",
    "* “+” - Match whatever it’s placed after 1 or more times"
   ]
  },
  {
   "cell_type": "markdown",
   "id": "38f0d1c4",
   "metadata": {},
   "source": [
    "### Question 26- Program to accept string ending with alphanumeric character"
   ]
  },
  {
   "cell_type": "code",
   "execution_count": 50,
   "id": "c171e471",
   "metadata": {},
   "outputs": [
    {
     "name": "stdout",
     "output_type": "stream",
     "text": [
      "The string is not ending with an alphanumeric character. \n",
      "\n",
      "The string is ending with an alphanumeric character. \n",
      "\n",
      "The string is not ending with an alphanumeric character. \n",
      "\n",
      "The string is ending with an alphanumeric character. \n",
      "\n"
     ]
    }
   ],
   "source": [
    "regex = '[a-zA-z0-9]$'\n",
    "def check_alpha_numeric(string):\n",
    "    if(re.search(regex, string)):\n",
    "        print(\"The string is ending with an alphanumeric character. \\n\")\n",
    "    else:\n",
    "        print(\"The string is not ending with an alphanumeric character. \\n\")\n",
    "\n",
    "check_alpha_numeric(\"pitchumca@\")\n",
    "check_alpha_numeric(\"pitchumca123\")\n",
    "check_alpha_numeric(\"pitchum.\")\n",
    "check_alpha_numeric(\"staysafeindistancestay\")\n"
   ]
  },
  {
   "cell_type": "markdown",
   "id": "728485d2",
   "metadata": {},
   "source": [
    "### Question 27- Write a python program using RegEx to extract the hashtags.\n",
    "* Sample Text: text = \"\"\"RT @kapil_kausik: #Doltiwal I mean #xyzabc is \"hurt\" by #Demonetization as the same has rendered USELESS <ed><U+00A0><U+00BD><ed><U+00B1><U+0089> \"acquired funds\" No wo\"\"\"\n",
    "* Output: [#Doltiwal', '#xyzabc', '#Demonetization]"
   ]
  },
  {
   "cell_type": "code",
   "execution_count": 55,
   "id": "740723a2",
   "metadata": {},
   "outputs": [
    {
     "name": "stdout",
     "output_type": "stream",
     "text": [
      "Tweet:\n",
      " RT @kapil_kausik: #Doltiwal I mean #xyzabc is \"hurt\" by #Demonetization as thehashtags = re.findall(r\"#\\w+\", text)\n",
      "\n",
      " Hashtag:\n",
      " ['#Doltiwal', '#xyzabc', '#Demonetization']\n"
     ]
    }
   ],
   "source": [
    "text = \"\"\"RT @kapil_kausik: #Doltiwal I mean #xyzabc is \"hurt\" by #Demonetization as thehashtags = re.findall(r\"#\\w+\", text)\"\"\"\n",
    "hashtags = re.findall(r\"#\\w+\", text)\n",
    "print(\"Tweet:\\n\", text)\n",
    "print(\"\\n Hashtag:\\n\", hashtags)"
   ]
  },
  {
   "cell_type": "code",
   "execution_count": 56,
   "id": "9fe1d89c",
   "metadata": {},
   "outputs": [
    {
     "name": "stdout",
     "output_type": "stream",
     "text": [
      "Tweet:\n",
      " RT @kapil_kausik: #Doltiwal I mean #xyzabc is \"hurt\" by #Demonetization as the same has rendered USELESS <U+00A0><U+00BD><U+00B1><U+0089> \"acquired funds\" No wo\n",
      "\n",
      " Hashtag:\n",
      " ['#Doltiwal', '#xyzabc', '#Demonetization']\n"
     ]
    }
   ],
   "source": [
    "#solution 2\n",
    "text =\"\"\"RT @kapil_kausik: #Doltiwal I mean #xyzabc is \"hurt\" by #Demonetization as the same has rendered USELESS <U+00A0><U+00BD><U+00B1><U+0089> \"acquired funds\" No wo\"\"\"\n",
    "hashtags = re.findall(r\"#[a-zA-Z0-9_]+\", text) \n",
    "print(\"Tweet:\\n\", text)\n",
    "print(\"\\n Hashtag:\\n\", hashtags)"
   ]
  },
  {
   "cell_type": "markdown",
   "id": "f9d86955",
   "metadata": {},
   "source": [
    "`hash[a-zA-Z0-9_]+`-This pattern is used to match one or more characters that begins with a hash (#) and is\n",
    "followed by a lowercase letter or capital letter or a number or an underscore. A plus sign is used after square\n",
    "brackets to match one or more repetitions of the given pattern."
   ]
  },
  {
   "cell_type": "markdown",
   "id": "fb631e4d",
   "metadata": {},
   "source": [
    "### Question 28- Write a python program using RegEx to remove <U+..> like symbols Check the below sample text, there are strange symbols something of the sort <U+..> all over the place. You need to come up with a general Regex expression that will cover/remove all such symbols.\n",
    "* Sample Text: \"@Jags123456 Bharat band on 28??<ed><U+00A0><U+00BD><ed><U+00B8><U+0082>Those who are protesting#demonetization are all different party leaders\"\n",
    "* Output: @Jags123456 Bharat band on 28??<ed><ed>Those who are protesting #demonetization are all\n",
    "different party leaders"
   ]
  },
  {
   "cell_type": "code",
   "execution_count": 57,
   "id": "18fa05aa",
   "metadata": {},
   "outputs": [
    {
     "name": "stdout",
     "output_type": "stream",
     "text": [
      "Text before:\n",
      " @Jags123456 Bharat band on 28??<ed><U+00A0><U+00BD><ed><U+00B8><U+0082>Those who\n",
      "\n",
      " Text after:\n",
      " @Jags123456 Bharat band on 28??<ed><ed>Those who\n"
     ]
    }
   ],
   "source": [
    "text= \"@Jags123456 Bharat band on 28??<ed><U+00A0><U+00BD><ed><U+00B8><U+0082>Those who\"\n",
    "clean_text = re.sub(r\"<U\\+[A-Z0-9]+>\", \"\", text)\n",
    "print(\"Text before:\\n\", text)\n",
    "print(\"\\n Text after:\\n\", clean_text)"
   ]
  },
  {
   "cell_type": "markdown",
   "id": "fd60900b",
   "metadata": {},
   "source": [
    "`<U+[A-Z0-9]+>`-This pattern is used to match one or more characters enclosed within <> that begin with 'U' followed by a plus sign and then a capital letter (upper case letters) or a number. A plus sign is used after square brackets to match one or more repetitions of a given pattern."
   ]
  },
  {
   "cell_type": "markdown",
   "id": "4b8ac6f8",
   "metadata": {},
   "source": [
    "### Question 29- Write a python program to extract dates from the text stored in the text file.\n",
    "* Sample Text: Ron was born on 12-09-1992 and he was admitted to school 15-12-1999.\n",
    "* Store this sample text in the file and then extract dates."
   ]
  },
  {
   "cell_type": "raw",
   "id": "90e762f1",
   "metadata": {},
   "source": [
    "import re\n",
    "    with open(\"C:/Users/LENOVO/Documents/RegEx/sample_text1.txt\") as file:\n",
    "    for line in file:\n",
    "        emails = re.findall(r\"\\d{2}-\\d{2}-\\d{4}\", line)\n",
    "        print(emails)\n"
   ]
  },
  {
   "cell_type": "markdown",
   "id": "710725fe",
   "metadata": {},
   "source": [
    "### Question 30- Write a Python program to replace all occurrences of a space, comma, or dot with a colon.\n",
    "* Sample Text- 'Python Exercises, PHP exercises.'\n",
    "* Output: Python:Exercises::PHP:exercises:"
   ]
  },
  {
   "cell_type": "code",
   "execution_count": 58,
   "id": "e918b9a3",
   "metadata": {},
   "outputs": [
    {
     "name": "stdout",
     "output_type": "stream",
     "text": [
      "Python:Exercises::PHP:exercises:\n"
     ]
    }
   ],
   "source": [
    "import re\n",
    "text = 'Python Exercises, PHP exercises.'\n",
    "print(re.sub(\"[ ,.]\", \":\", text))"
   ]
  },
  {
   "cell_type": "code",
   "execution_count": null,
   "id": "55aa8e61",
   "metadata": {},
   "outputs": [],
   "source": []
  }
 ],
 "metadata": {
  "kernelspec": {
   "display_name": "Python 3 (ipykernel)",
   "language": "python",
   "name": "python3"
  },
  "language_info": {
   "codemirror_mode": {
    "name": "ipython",
    "version": 3
   },
   "file_extension": ".py",
   "mimetype": "text/x-python",
   "name": "python",
   "nbconvert_exporter": "python",
   "pygments_lexer": "ipython3",
   "version": "3.9.13"
  }
 },
 "nbformat": 4,
 "nbformat_minor": 5
}
